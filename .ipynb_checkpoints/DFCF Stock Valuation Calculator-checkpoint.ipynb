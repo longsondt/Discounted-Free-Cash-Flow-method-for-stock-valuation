{
 "cells": [
  {
   "cell_type": "markdown",
   "id": "62e47215",
   "metadata": {},
   "source": [
    "### Generate the ticker object"
   ]
  },
  {
   "cell_type": "code",
   "execution_count": null,
   "id": "b8c91382",
   "metadata": {},
   "outputs": [],
   "source": [
    "import yfinance as yf\n",
    "\n",
    "while True:\n",
    "    try:\n",
    "        ticker = input(\"Type in the ticker symbol: \")\n",
    "        ticker_object = yf.Ticker(ticker)\n",
    "        print(ticker_object.info['longBusinessSummary'])\n",
    "        break\n",
    "    except KeyError:\n",
    "        print(\"Please enter a valid ticker symbol\")"
   ]
  },
  {
   "cell_type": "markdown",
   "id": "08f9be31",
   "metadata": {},
   "source": [
    "### Check whether the ticker has the needed financial statement line items"
   ]
  },
  {
   "cell_type": "code",
   "execution_count": null,
   "id": "d60c325f",
   "metadata": {},
   "outputs": [],
   "source": [
    "## Some of the line items are missing when using yfinance to pull data from Yahoo! Finance.\n",
    "\n",
    "## For example, 'Capital Expenditure', which is required to find Free Cash Flow, \n",
    "# does not exist in the cash flow statement of JPM on both Yahoo! Finance and yfinance\n",
    "\n",
    "## Or, 'Total Debt' is not included when using .balancesheet on the ticker object,\n",
    "# which is required for estimating interest rate for WACC calculation. \n",
    "\n",
    "## We can estimate 'Total Debt' by adding 'Short Long Term Debt' and 'Long Term Debt' rows together,\n",
    "# but some tickers don't even have those two rows in their balancesheet data frame when using yfinance, like 'FB' or 'SNOW'. \n",
    "\n",
    "## The line items we must sure exist when using yfinance includes: \n",
    "# - 'Total Cash From Operating Activities'\n",
    "# - 'Capital Expenditures'\n",
    "# - 'Total Revenue'\n",
    "# - 'Net Income'\n",
    "\n",
    "## Optional line items required for calculating WACC. \n",
    "# - 'Short Long Term Debt'\n",
    "# - 'Long Term Debt'\n",
    "# - 'Interest Expense'\n",
    "# - 'Income Before Tax'\n",
    "# - 'Income Tax Expense'\n",
    "## Optional because without these items, or if the values for the item is NaN, the calculator wouldn't be able \n",
    "# to estimate the WACC by itself. But the user can still input their own cost of debt, cost of equity, if they choose to. \n",
    "## To see examples of tickers where automating WACC calculation doesn't work, try 'GOOG' or 'SNOW'"
   ]
  },
  {
   "cell_type": "markdown",
   "id": "ef692a6b",
   "metadata": {},
   "source": [
    "#### The cell below will be wrapped in a while loop with the cell that ask for the inputting the ticker in the actual python file\n",
    "#### The reason why I am separating them is to explain why we need the set of codes below"
   ]
  },
  {
   "cell_type": "code",
   "execution_count": null,
   "id": "111eda36",
   "metadata": {},
   "outputs": [],
   "source": [
    "# Generate a set of row names for the line items we must have: \n",
    "must_have_items = {'Total Cash From Operating Activities', 'Capital Expenditures', \n",
    "                  'Total Revenue', 'Net Income'}\n",
    "\n",
    "# Generate a set of row names available of the current ticker's financial statements: \n",
    "cashflow_items = set(ticker_object.cashflow.index)\n",
    "incomestatement_items = set(ticker_object.financials.index)\n",
    "available_items = cashflow_items | incomestatement_items \n",
    "\n",
    "# If an item in the set of items we need is not present, we should re run the calculator with a different ticker\n",
    "if len(must_have_items.intersection(available_items)) < len(must_have_items):\n",
    "    print('The ticker does not meet the requirement for this calculator. Please re run the calculator with a new ticker')\n"
   ]
  },
  {
   "cell_type": "markdown",
   "id": "655110d9",
   "metadata": {},
   "source": [
    "### Generate a list of number of years"
   ]
  },
  {
   "cell_type": "code",
   "execution_count": null,
   "id": "42c0e1d0",
   "metadata": {},
   "outputs": [],
   "source": [
    "# Since each company has a different number of historical financial \n",
    "# statements on yahoo finance, we need generate a list of years \n",
    "# to use in any upcoming iterations\n",
    "\n",
    "# The number of years available can be get from any financial statement dataframe number of columns\n",
    "# In this case, we use the income statment\n",
    "NUM_OF_YEARS = len(list(ticker_object.financials.columns.values))"
   ]
  },
  {
   "cell_type": "markdown",
   "id": "ba246b13",
   "metadata": {},
   "source": [
    "# Step 1. Getting historical FCF"
   ]
  },
  {
   "cell_type": "markdown",
   "id": "a781ae30",
   "metadata": {},
   "source": [
    "### i. Accessing the cash flow statement"
   ]
  },
  {
   "cell_type": "code",
   "execution_count": null,
   "id": "1c845407",
   "metadata": {},
   "outputs": [],
   "source": [
    "cashflow_df = ticker_object.cashflow\n",
    "cashflow_df"
   ]
  },
  {
   "cell_type": "markdown",
   "id": "68369ab9",
   "metadata": {},
   "source": [
    "### ii. Getting net operating cash flow"
   ]
  },
  {
   "cell_type": "code",
   "execution_count": null,
   "id": "11f32112",
   "metadata": {},
   "outputs": [],
   "source": [
    "net_OP_CF = list(cashflow_df.loc['Total Cash From Operating Activities'])\n",
    "net_OP_CF"
   ]
  },
  {
   "cell_type": "markdown",
   "id": "fa8b7d8c",
   "metadata": {},
   "source": [
    "### iii. Getting capital expenditures"
   ]
  },
  {
   "cell_type": "code",
   "execution_count": null,
   "id": "10e869cb",
   "metadata": {},
   "outputs": [],
   "source": [
    "cap_ex = list(cashflow_df.loc['Capital Expenditures'])\n",
    "cap_ex"
   ]
  },
  {
   "cell_type": "markdown",
   "id": "a1d84ff6",
   "metadata": {},
   "source": [
    "### iv. Calculate historical FCF"
   ]
  },
  {
   "cell_type": "code",
   "execution_count": null,
   "id": "3f092306",
   "metadata": {},
   "outputs": [],
   "source": [
    "hist_FCF = []\n",
    "len(list(cashflow_df.columns.values))\n",
    "for i in range(NUM_OF_YEARS):\n",
    "    hist_FCF.append(net_OP_CF[i] + cap_ex[i])\n",
    "\n",
    "hist_FCF\n",
    "\n",
    "# Rearrange from oldest to latest year\n",
    "hist_FCF = hist_FCF[::-1]\n",
    "hist_FCF"
   ]
  },
  {
   "cell_type": "markdown",
   "id": "b1be0370",
   "metadata": {},
   "source": [
    "# Step 2. Getting forecasted FCF"
   ]
  },
  {
   "cell_type": "markdown",
   "id": "fd01acf1",
   "metadata": {},
   "source": [
    "## 2.1 Find average revenue growth rate"
   ]
  },
  {
   "cell_type": "markdown",
   "id": "36a349fa",
   "metadata": {},
   "source": [
    "### i. Accessing the financial statement "
   ]
  },
  {
   "cell_type": "code",
   "execution_count": null,
   "id": "4d52c21f",
   "metadata": {},
   "outputs": [],
   "source": [
    "financials_df = ticker_object.financials\n",
    "financials_df"
   ]
  },
  {
   "cell_type": "markdown",
   "id": "fca600a3",
   "metadata": {},
   "source": [
    "### ii. Accessing the Total Revenue\n"
   ]
  },
  {
   "cell_type": "code",
   "execution_count": null,
   "id": "e7843c8e",
   "metadata": {},
   "outputs": [],
   "source": [
    "hist_total_revenue = list(financials_df.loc['Total Revenue'])\n",
    "\n",
    "# Again, rearranging the order so it's easier to calculate the historical revenue growth\n",
    "hist_total_revenue = hist_total_revenue[::-1]\n",
    "\n"
   ]
  },
  {
   "cell_type": "markdown",
   "id": "e5afc6c4",
   "metadata": {},
   "source": [
    "### iii. Find average historical revenue growth rate"
   ]
  },
  {
   "cell_type": "code",
   "execution_count": null,
   "id": "ca5c5105",
   "metadata": {},
   "outputs": [],
   "source": [
    "def avg_rev_growth(hist_total_revenue):\n",
    "    \n",
    "    past_rev_growth = []\n",
    "    for i in range(1, NUM_OF_YEARS):\n",
    "        growth = (hist_total_revenue[i] - hist_total_revenue[i-1]) / hist_total_revenue[i-1] \n",
    "        past_rev_growth.append(growth)\n",
    "    \n",
    "    return sum(past_rev_growth)/len(past_rev_growth)\n",
    "\n",
    "avg_rev_growth = avg_rev_growth(hist_total_revenue)\n",
    "avg_rev_growth"
   ]
  },
  {
   "cell_type": "markdown",
   "id": "0fa53c6e",
   "metadata": {},
   "source": [
    "## 2.2 Find average net income/total revenue margin"
   ]
  },
  {
   "cell_type": "markdown",
   "id": "5e75a319",
   "metadata": {},
   "source": [
    "### i. Accessing historical net income"
   ]
  },
  {
   "cell_type": "code",
   "execution_count": null,
   "id": "f5c4872c",
   "metadata": {},
   "outputs": [],
   "source": [
    "hist_net_income = list(financials_df.loc['Net Income'])\n",
    "\n",
    "# Again, rearranging the order so it's easier to calculate the net income margin per past year\n",
    "hist_net_income = hist_net_income[::-1]\n",
    "hist_net_income"
   ]
  },
  {
   "cell_type": "markdown",
   "id": "1f378c7c",
   "metadata": {},
   "source": [
    "### ii. Find average historical net income margin per year"
   ]
  },
  {
   "cell_type": "code",
   "execution_count": null,
   "id": "5add38aa",
   "metadata": {},
   "outputs": [],
   "source": [
    "def avg_netincome_margin(hist_net_income, hist_total_revenue):\n",
    "    \n",
    "    past_netincome_margin = []\n",
    "    for i in range(NUM_OF_YEARS):\n",
    "        netincome_margin = hist_net_income[i] / hist_total_revenue[i]\n",
    "        past_netincome_margin.append(netincome_margin)\n",
    "    print(past_netincome_margin)\n",
    "    return sum(past_netincome_margin) / len(past_netincome_margin)\n",
    "\n",
    "avg_netincome_margin = avg_netincome_margin(hist_net_income, hist_total_revenue)\n",
    "avg_netincome_margin"
   ]
  },
  {
   "cell_type": "markdown",
   "id": "43ecc428",
   "metadata": {},
   "source": [
    "## 2.3 Find average FCF/net income margin"
   ]
  },
  {
   "cell_type": "code",
   "execution_count": null,
   "id": "47b98c37",
   "metadata": {},
   "outputs": [],
   "source": [
    "def avg_FCF_margin(hist_FCF, hist_net_income):\n",
    "    FCF_margin = []\n",
    "    for i in range(NUM_OF_YEARS):\n",
    "        margin = hist_FCF[i] / hist_net_income[i]\n",
    "        FCF_margin.append(margin)\n",
    "    \n",
    "    print(FCF_margin)\n",
    "    \n",
    "    return sum(FCF_margin) / len(FCF_margin)\n",
    "\n",
    "avg_FCF_margin = avg_FCF_margin(hist_FCF, hist_net_income)\n",
    "avg_FCF_margin"
   ]
  },
  {
   "cell_type": "markdown",
   "id": "978707ed",
   "metadata": {},
   "source": [
    "## 2.4 Find forecasted FCF"
   ]
  },
  {
   "cell_type": "markdown",
   "id": "64cea6eb",
   "metadata": {},
   "source": [
    "### i. Find forecasted Total Revenue"
   ]
  },
  {
   "cell_type": "code",
   "execution_count": null,
   "id": "e73d3bc2",
   "metadata": {},
   "outputs": [],
   "source": [
    "def future_revenues(hist_total_revenue, avg_rev_growth):\n",
    "    future_revenues = []\n",
    "    \n",
    "    for i in range(NUM_OF_YEARS):\n",
    "        future_rev = hist_total_revenue[-1] * ((1 + avg_rev_growth))**(i + 1)\n",
    "        future_revenues.append(future_rev)\n",
    "    \n",
    "    return future_revenues\n",
    "\n",
    "future_revenues = future_revenues(hist_total_revenue, avg_rev_growth)\n",
    "future_revenues\n",
    "    "
   ]
  },
  {
   "cell_type": "markdown",
   "id": "9af6cf18",
   "metadata": {},
   "source": [
    "### ii. Find forecasted Net Income"
   ]
  },
  {
   "cell_type": "code",
   "execution_count": null,
   "id": "01833751",
   "metadata": {},
   "outputs": [],
   "source": [
    "def future_netincomes(future_revenues, avg_netincome_margin):\n",
    "    future_netincomes = []\n",
    "    \n",
    "    for i in range(NUM_OF_YEARS):\n",
    "        future_NI = future_revenues[i] * avg_netincome_margin\n",
    "        future_netincomes.append(future_NI)\n",
    "\n",
    "    return future_netincomes\n",
    "\n",
    "future_netincomes = future_netincomes(future_revenues, avg_netincome_margin)\n",
    "future_netincomes"
   ]
  },
  {
   "cell_type": "markdown",
   "id": "3b03168f",
   "metadata": {},
   "source": [
    "### ii. Find forecasted FCF"
   ]
  },
  {
   "cell_type": "code",
   "execution_count": null,
   "id": "1a98ec8e",
   "metadata": {},
   "outputs": [],
   "source": [
    "def future_FCFs(future_netincomes, avg_FCF_margin):\n",
    "    future_FCFs = []\n",
    "    \n",
    "    for i in range(NUM_OF_YEARS):\n",
    "        future_fcf = future_netincomes[i] * avg_FCF_margin\n",
    "        future_FCFs.append(future_fcf)\n",
    "        \n",
    "    return future_FCFs\n",
    "\n",
    "future_FCFs = future_FCFs(future_netincomes, avg_FCF_margin)\n",
    "future_FCFs"
   ]
  },
  {
   "cell_type": "markdown",
   "id": "352540c1",
   "metadata": {},
   "source": [
    "# Step 3. Find the required rate of return WACC"
   ]
  },
  {
   "cell_type": "code",
   "execution_count": null,
   "id": "aaf0faea",
   "metadata": {},
   "outputs": [],
   "source": [
    "## Notice that for each of the components required to calculate WACC - cost of debt and cost of equity - \n",
    "# the calculator allow for inputing user's preferred rate, if they think the calculated value is unreasonable, \n",
    "# or incorrect due to missing line items in the balancesheet dataframe"
   ]
  },
  {
   "cell_type": "markdown",
   "id": "62b05a7b",
   "metadata": {},
   "source": [
    "## 3.1 Find the cost of equity"
   ]
  },
  {
   "cell_type": "code",
   "execution_count": null,
   "id": "d9398d53",
   "metadata": {},
   "outputs": [],
   "source": [
    "def capm_calculator():\n",
    "    # Get beta \n",
    "    beta = ticker_object.info['beta']\n",
    "    if beta == None: \n",
    "        while True: \n",
    "            try:\n",
    "                beta = float(input(\"There is no beta available for this ticker\\nPlease input your own beta: \"))\n",
    "                beta_test = beta / 1\n",
    "                break\n",
    "            except ValueError: \n",
    "                continue \n",
    "    \n",
    "    # Get expected market return\n",
    "    while True:\n",
    "        r_m = input(\"Would you like to use your own expected market return?\\nIf no, the default rate will be 10%\\nType  in 'Y' or 'N': \")\n",
    "        if r_m.lower() == 'y' or r_m.lower() == 'n':\n",
    "            break\n",
    "        else:\n",
    "            continue\n",
    "        \n",
    "    if r_m.lower() == 'y': \n",
    "        while True:\n",
    "            try:\n",
    "                r_m = input(\"Please input your preferred expected market return in %: \")\n",
    "                r_m = float(r_m)/100\n",
    "                break\n",
    "            except ValueError:\n",
    "                print('Please enter a valid number')\n",
    "    elif r_m.lower() == 'n':\n",
    "        r_m = 0.10\n",
    "    \n",
    "    # Get risk free rate\n",
    "    bond = yf.Ticker('^TNX')\n",
    "    r_f = bond.info['regularMarketPrice'] / 100\n",
    "    \n",
    "    # Calculate cost of equity\n",
    "    r_e = r_f + beta * (r_m - r_f)\n",
    "    \n",
    "    print(f'\\nbeta is:  {beta}')\n",
    "    print(f'r_f based on US 10 Treasury Yield is: {r_f}')\n",
    "    print(f'r_m is: {r_m}')\n",
    "        \n",
    "    return r_e\n",
    "\n",
    "# Getting cost of equity\n",
    "while True:\n",
    "        r_e = input(\"Would you like to use your own cost of equity?\\nIf no, the default rate will be calculated based on CAPM\\nType  in 'Y' or 'N': \")\n",
    "        if r_e.lower() == 'y' or r_e.lower() == 'n':\n",
    "            break\n",
    "        else:\n",
    "            continue\n",
    "            \n",
    "if r_e.lower() == 'y': \n",
    "    while True:\n",
    "        try:\n",
    "            r_e = input(\"Please input your custom cost of equity in %: \")\n",
    "            r_e = float(r_e)/100\n",
    "            break\n",
    "        except ValueError:\n",
    "            print('Please enter a valid number')\n",
    "elif r_e.lower() == 'n':\n",
    "    print(\"\\nCalculating cost of equity using CAPM...\\n\")\n",
    "    r_e = capm_calculator()\n",
    "    \n",
    "print(f'Therefore, r_e is: {r_e * 100}%')\n"
   ]
  },
  {
   "cell_type": "markdown",
   "id": "77952ca2",
   "metadata": {},
   "source": [
    "## 3.2 Find cost of debt"
   ]
  },
  {
   "cell_type": "code",
   "execution_count": null,
   "id": "b2ec9879",
   "metadata": {},
   "outputs": [],
   "source": [
    "def cost_of_debt_calculator():\n",
    "    # Accessing the balance sheet\n",
    "    balancesheet_df = ticker_object.balancesheet\n",
    "    \n",
    "    # Find the historial total debt\n",
    "    hist_total_debt = list(balancesheet_df.loc['Short Long Term Debt'] + balancesheet_df.loc['Long Term Debt'])\n",
    "    print(f'hist_total_debt is: {hist_total_debt}')\n",
    "    \n",
    "    \n",
    "    # Find the historical interest expense\n",
    "    hist_interest_exp = list(financials_df.loc['Interest Expense'])\n",
    "    print(f'hist_interest_exp is {hist_interest_exp}')\n",
    "    \n",
    "    # Find the average cost of debt\n",
    "    hist_r_d = [abs(hist_interest_exp[i] / hist_total_debt[i]) for i in range(NUM_OF_YEARS)]\n",
    "    avg_hist_r_d = sum(hist_r_d) / len(hist_r_d)\n",
    "    print(f'hist_r_d is {hist_r_d}')\n",
    "    \n",
    "    return avg_hist_r_d\n",
    "\n",
    "# Getting cost of debt\n",
    "while True:\n",
    "        r_d = input(\"Would you like to use your own cost of debt?\\nIf no, the default rate will be calculated based on historical income statement and balance sheet values\\nType  in 'Y' or 'N': \")\n",
    "        if r_d.lower() == 'y' or r_d.lower() == 'n':\n",
    "            break\n",
    "        else:\n",
    "            continue\n",
    "            \n",
    "if r_d.lower() == 'y': \n",
    "    while True:\n",
    "        try:\n",
    "            r_d = input(\"Please input your custom cost of debt in %: \")\n",
    "            r_d = float(r_d)/100\n",
    "            break\n",
    "        except ValueError:\n",
    "            print('Please enter a valid number')\n",
    "elif r_d.lower() == 'n':\n",
    "    r_d = cost_of_debt_calculator()\n",
    "\n",
    "print('\\n')\n",
    "print(f'r_d is: {r_d * 100}%')"
   ]
  },
  {
   "cell_type": "markdown",
   "id": "60540d3a",
   "metadata": {},
   "source": [
    "## 3.3 Find the effective tax rate"
   ]
  },
  {
   "cell_type": "code",
   "execution_count": null,
   "id": "19076b19",
   "metadata": {},
   "outputs": [],
   "source": [
    "def effective_tax_calculator():\n",
    "    hist_incomeb4_tax = list(financials_df.loc['Income Before Tax'])\n",
    "    hist_tax_expense = list(financials_df.loc['Income Tax Expense'])\n",
    "\n",
    "    hist_eff_tax_rate = [abs(hist_tax_expense[i]) / abs(hist_incomeb4_tax[i]) for i in range(NUM_OF_YEARS)]\n",
    "    avg_eff_tax_rate = sum(hist_eff_tax_rate) / len(hist_eff_tax_rate)\n",
    "    \n",
    "    return avg_eff_tax_rate\n",
    "\n",
    "# Getting effective tax rate\n",
    "while True:\n",
    "        tax_rate = input(\"Would you like to use your own effective tax rate?\\nIf no, the default rate will be calculated based on historical income statement values\\nType  in 'Y' or 'N': \")\n",
    "        if tax_rate.lower() == 'y' or tax_rate.lower() == 'n':\n",
    "            break\n",
    "        else:\n",
    "            continue\n",
    "            \n",
    "if tax_rate.lower() == 'y': \n",
    "    while True:\n",
    "        try:\n",
    "            tax_rate = input(\"Please input your custom tax rate in %: \")\n",
    "            tax_rate = float(tax_rate)/100\n",
    "            break\n",
    "        except ValueError:\n",
    "            print('Please enter a valid number')\n",
    "elif tax_rate.lower() == 'n':\n",
    "    tax_rate = effective_tax_calculator()\n",
    "    \n",
    "print(f'\\nEffective tax rate is: {tax_rate * 100}%')"
   ]
  },
  {
   "cell_type": "markdown",
   "id": "55fc6c1d",
   "metadata": {},
   "source": [
    "## 3.4 Find WACC"
   ]
  },
  {
   "cell_type": "code",
   "execution_count": null,
   "id": "b40c1b6b",
   "metadata": {},
   "outputs": [],
   "source": [
    "def wacc_calculator(r_e, r_d, tax_rate):\n",
    "    \n",
    "    # Getting the weight of debt and equity\n",
    "    equity_value = ticker_object.info['marketCap']\n",
    "    debt_value = ticker_object.info['totalDebt']\n",
    "    total_value = equity_value + debt_value\n",
    "    \n",
    "    weight_of_equity = equity_value / total_value\n",
    "    weight_of_debt = debt_value / total_value\n",
    "    \n",
    "    \n",
    "    WACC = weight_of_debt * r_d * (1 - tax_rate) + weight_of_equity * r_e\n",
    "    \n",
    "    return WACC\n",
    "\n",
    "cost_of_capital = wacc_calculator(r_e, r_d, tax_rate)\n",
    "print(f'The cost of capital is: {cost_of_capital * 100}%')"
   ]
  },
  {
   "cell_type": "markdown",
   "id": "107e918a",
   "metadata": {},
   "source": [
    "# Step 4. Find the present value of all future FCF"
   ]
  },
  {
   "cell_type": "markdown",
   "id": "23d33ffc",
   "metadata": {},
   "source": [
    "## 4.1 Find the discount factor "
   ]
  },
  {
   "cell_type": "code",
   "execution_count": null,
   "id": "12e1e5fb",
   "metadata": {},
   "outputs": [],
   "source": [
    "def discount_factors(cost_of_capital):\n",
    "    \"\"\"\n",
    "    Returns a list of discount factors\n",
    "    \"\"\"\n",
    "    \n",
    "    discount_factors = []\n",
    "    for i in range(NUM_OF_YEARS):\n",
    "        d_factor = 1 / (1 + cost_of_capital)**(i+1)\n",
    "        discount_factors.append(d_factor)\n",
    "    \n",
    "    return discount_factors\n",
    "\n",
    "discount_factors = discount_factors(cost_of_capital)\n",
    "\n",
    "print(f'The discount factors are: {discount_factors}')\n",
    "        "
   ]
  },
  {
   "cell_type": "markdown",
   "id": "d1944e8e",
   "metadata": {},
   "source": [
    "## 4.2 Find the PV of forecasted FCF"
   ]
  },
  {
   "cell_type": "code",
   "execution_count": null,
   "id": "47287f8b",
   "metadata": {},
   "outputs": [],
   "source": [
    "def pv_forecasted_FCF(future_FCFs, discount_factors): \n",
    "    pv_forecasted_FCF = []\n",
    "    for i in range(NUM_OF_YEARS):\n",
    "        pv_forecasted_FCF.append(future_FCFs[i] * discount_factors[i])\n",
    "    \n",
    "    return pv_forecasted_FCF\n",
    "\n",
    "pv_forecasted_FCF = pv_forecasted_FCF(future_FCFs, discount_factors)\n",
    "\n",
    "print(future_FCFs)"
   ]
  },
  {
   "cell_type": "markdown",
   "id": "b18e087f",
   "metadata": {},
   "source": [
    "## 4.3 Find the terminal value and its PV"
   ]
  },
  {
   "cell_type": "code",
   "execution_count": null,
   "id": "2ae082dd",
   "metadata": {},
   "outputs": [],
   "source": [
    "def pv_terminal_value(future_FCFs, cost_of_capital, discount_factors):\n",
    "    \n",
    "    # First, we need to determine the growth rate\n",
    "    # Default growth rate will be 2.5%\n",
    "    while True:\n",
    "        growth_rate = input(\"Would you like to use your own perpetual growth rate?\\nIf no, the default rate will be 2.5%\\nType  in 'Y' or 'N': \")\n",
    "        if growth_rate.lower() == 'y' or growth_rate.lower() == 'n':\n",
    "            break\n",
    "        else:\n",
    "            continue\n",
    "            \n",
    "    if growth_rate.lower() == 'y': \n",
    "        while True:\n",
    "            try:\n",
    "                growth_rate = input(\"Please input your custom tax rate in %: \")\n",
    "                growth_rate = float(growth_rate)/100\n",
    "                break\n",
    "            except ValueError:\n",
    "                print('Please enter a valid number')\n",
    "    elif growth_rate.lower() == 'n':\n",
    "        growth_rate = 0.025\n",
    "        \n",
    "    # Calculate terminal value \n",
    "    terminal_value = (future_FCFs[-1] * (1 + growth_rate)) / (cost_of_capital - growth_rate)\n",
    "    print(terminal_value)\n",
    "    \n",
    "    # Calculate the PV of terminal value\n",
    "    pv_terminal_value = terminal_value * discount_factors[-1]\n",
    "    \n",
    "    return pv_terminal_value\n",
    "\n",
    "pv_terminal_value = pv_terminal_value(future_FCFs, cost_of_capital, discount_factors) \n",
    "print(pv_terminal_value)"
   ]
  },
  {
   "cell_type": "markdown",
   "id": "19cd5d55",
   "metadata": {},
   "source": [
    "## 4.4 Find the sum of the PV of all future FCF"
   ]
  },
  {
   "cell_type": "code",
   "execution_count": null,
   "id": "5444913e",
   "metadata": {},
   "outputs": [],
   "source": [
    "pv_forecasted_FCF.append(pv_terminal_value)\n",
    "pv_all_future_FCF = pv_forecasted_FCF\n",
    "print(pv_all_future_FCF)"
   ]
  },
  {
   "cell_type": "markdown",
   "id": "9ea17bf8",
   "metadata": {},
   "source": [
    "# Step 5 (FINAL STEP). Find the intrinsic value of the stock"
   ]
  },
  {
   "cell_type": "code",
   "execution_count": null,
   "id": "ec806af9",
   "metadata": {},
   "outputs": [],
   "source": [
    "def intrinsic_value(pv_all_future_FCF):\n",
    "    # Get the number of shares outstanding\n",
    "    num_shares_outstanding = ticker_object.info['sharesOutstanding']\n",
    "    \n",
    "    intrinsic_value = sum(pv_all_future_FCF) / num_shares_outstanding\n",
    "    \n",
    "    return intrinsic_value\n",
    "\n",
    "intrinsic_value = intrinsic_value(pv_all_future_FCF)\n",
    "\n",
    "print(f'The intrinsic value of {ticker.upper()} based on the discounted free cash flow analysis is: ${intrinsic_value:.2f}')"
   ]
  },
  {
   "cell_type": "code",
   "execution_count": null,
   "id": "ab8b91b6",
   "metadata": {},
   "outputs": [],
   "source": []
  }
 ],
 "metadata": {
  "kernelspec": {
   "display_name": "Python 3",
   "language": "python",
   "name": "python3"
  },
  "language_info": {
   "codemirror_mode": {
    "name": "ipython",
    "version": 3
   },
   "file_extension": ".py",
   "mimetype": "text/x-python",
   "name": "python",
   "nbconvert_exporter": "python",
   "pygments_lexer": "ipython3",
   "version": "3.8.8"
  }
 },
 "nbformat": 4,
 "nbformat_minor": 5
}
