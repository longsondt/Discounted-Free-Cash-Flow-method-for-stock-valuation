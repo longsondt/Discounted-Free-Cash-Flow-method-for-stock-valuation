{
 "cells": [
  {
   "cell_type": "markdown",
   "id": "62e47215",
   "metadata": {},
   "source": [
    "### Generate the ticker object"
   ]
  },
  {
   "cell_type": "code",
   "execution_count": 1,
   "id": "b8c91382",
   "metadata": {},
   "outputs": [
    {
     "name": "stdout",
     "output_type": "stream",
     "text": [
      "Type in the ticker symbol: ghjbjhbhjbjhbhjgjgj\n",
      "Please enter a valid ticker symbol\n",
      "Type in the ticker symbol: ko\n",
      "The Coca-Cola Company, a beverage company, manufactures, markets, and sells various nonalcoholic beverages worldwide. The company provides sparkling soft drinks; water, enhanced water, and sports drinks; juice, dairy, and plantÂbased beverages; tea and coffee; and energy drinks. It also offers beverage concentrates and syrups, as well as fountain syrups to fountain retailers, such as restaurants and convenience stores. The company sells its products under the Coca-Cola, Diet Coke/Coca-Cola Light, Coca-Cola Zero Sugar, Fanta, Fresca, Schweppes, Sprite, Thums Up, Aquarius, Ciel, Dasani, glacÃ©au smartwater, glacÃ©au vitaminwater, Ice Dew, I LOHAS, Powerade, Topo Chico, AdeS, Del Valle, fairlife, innocent, Minute Maid, Minute Maid Pulpy, Simply, Ayataka, Costa, dogadan, FUZE TEA, Georgia, Gold Peak, HONEST TEA, and Kochakaden brands. It operates through a network of independent bottling partners, distributors, wholesalers, and retailers, as well as through bottling and distribution operators. The company was founded in 1886 and is headquartered in Atlanta, Georgia.\n"
     ]
    }
   ],
   "source": [
    "import yfinance as yf\n",
    "\n",
    "while True:\n",
    "    try:\n",
    "        ticker = input(\"Type in the ticker symbol: \")\n",
    "        ticker_object = yf.Ticker(ticker)\n",
    "        print(ticker_object.info['longBusinessSummary'])\n",
    "        break\n",
    "    except KeyError:\n",
    "        print(\"Please enter a valid ticker symbol\")"
   ]
  },
  {
   "cell_type": "markdown",
   "id": "08f9be31",
   "metadata": {},
   "source": [
    "### Check whether the ticker has the needed financial statement line items"
   ]
  },
  {
   "cell_type": "code",
   "execution_count": 2,
   "id": "d60c325f",
   "metadata": {},
   "outputs": [],
   "source": [
    "## Some of the line items are missing when using yfinance to pull data from Yahoo! Finance.\n",
    "\n",
    "## For example, 'Capital Expenditure', which is required to find Free Cash Flow, \n",
    "# does not exist in the cash flow statement of JPM on both Yahoo! Finance and yfinance\n",
    "\n",
    "## Or, 'Total Debt' is not included when using .balancesheet on the ticker object,\n",
    "# which is required for estimating interest rate for WACC calculation. \n",
    "\n",
    "## We can estimate 'Total Debt' by adding 'Short Long Term Debt' and 'Long Term Debt' rows together,\n",
    "# but some tickers don't even have those two rows in their balancesheet data frame when using yfinance, like 'FB' or 'SNOW'. \n",
    "\n",
    "## The line items we must sure exist when using yfinance includes: \n",
    "# - 'Total Cash From Operating Activities'\n",
    "# - 'Capital Expenditures'\n",
    "# - 'Total Revenue'\n",
    "# - 'Net Income'\n",
    "\n",
    "## Optional line items required for calculating WACC. \n",
    "# - 'Short Long Term Debt'\n",
    "# - 'Long Term Debt'\n",
    "# - 'Interest Expense'\n",
    "# - 'Income Before Tax'\n",
    "# - 'Income Tax Expense'\n",
    "## Optional because without these items, or if the values for the item is NaN, the calculator wouldn't be able \n",
    "# to estimate the WACC by itself. But the user can still input their own cost of debt, cost of equity, if they choose to. \n",
    "## To see examples of tickers where automating WACC calculation doesn't work, try 'GOOG' or 'SNOW'"
   ]
  },
  {
   "cell_type": "markdown",
   "id": "ef692a6b",
   "metadata": {},
   "source": [
    "#### The cell below will be wrapped in a while loop with the cell that ask for the inputting the ticker in the actual python file\n",
    "#### The reason why I am separating them is to explain why we need the set of codes below"
   ]
  },
  {
   "cell_type": "code",
   "execution_count": 3,
   "id": "111eda36",
   "metadata": {},
   "outputs": [],
   "source": [
    "# Generate a set of row names for the line items we must have: \n",
    "must_have_items = {'Total Cash From Operating Activities', 'Capital Expenditures', \n",
    "                  'Total Revenue', 'Net Income'}\n",
    "\n",
    "# Generate a set of row names available of the current ticker's financial statements: \n",
    "cashflow_items = set(ticker_object.cashflow.index)\n",
    "incomestatement_items = set(ticker_object.financials.index)\n",
    "available_items = cashflow_items | incomestatement_items \n",
    "\n",
    "# If an item in the set of items we need is not present, we should re run the calculator with a different ticker\n",
    "if len(must_have_items.intersection(available_items)) < len(must_have_items):\n",
    "    print('The ticker does not meet the requirement for this calculator. Please re run the calculator with a new ticker')\n"
   ]
  },
  {
   "cell_type": "markdown",
   "id": "655110d9",
   "metadata": {},
   "source": [
    "### Generate a list of number of years"
   ]
  },
  {
   "cell_type": "code",
   "execution_count": 4,
   "id": "42c0e1d0",
   "metadata": {},
   "outputs": [],
   "source": [
    "# Since each company has a different number of historical financial \n",
    "# statements on yahoo finance, we need generate a list of years \n",
    "# to use in any upcoming iterations\n",
    "\n",
    "# The number of years available can be get from any financial statement dataframe number of columns\n",
    "# In this case, we use the income statment\n",
    "NUM_OF_YEARS = len(list(ticker_object.financials.columns.values))"
   ]
  },
  {
   "cell_type": "markdown",
   "id": "ba246b13",
   "metadata": {},
   "source": [
    "# Step 1. Getting historical FCF"
   ]
  },
  {
   "cell_type": "markdown",
   "id": "a781ae30",
   "metadata": {},
   "source": [
    "### i. Accessing the cash flow statement"
   ]
  },
  {
   "cell_type": "code",
   "execution_count": 5,
   "id": "1c845407",
   "metadata": {},
   "outputs": [
    {
     "data": {
      "text/html": [
       "<div>\n",
       "<style scoped>\n",
       "    .dataframe tbody tr th:only-of-type {\n",
       "        vertical-align: middle;\n",
       "    }\n",
       "\n",
       "    .dataframe tbody tr th {\n",
       "        vertical-align: top;\n",
       "    }\n",
       "\n",
       "    .dataframe thead th {\n",
       "        text-align: right;\n",
       "    }\n",
       "</style>\n",
       "<table border=\"1\" class=\"dataframe\">\n",
       "  <thead>\n",
       "    <tr style=\"text-align: right;\">\n",
       "      <th></th>\n",
       "      <th>2020-12-31</th>\n",
       "      <th>2019-12-31</th>\n",
       "      <th>2018-12-31</th>\n",
       "      <th>2017-12-31</th>\n",
       "    </tr>\n",
       "  </thead>\n",
       "  <tbody>\n",
       "    <tr>\n",
       "      <th>Investments</th>\n",
       "      <td>2.520000e+08</td>\n",
       "      <td>2.269000e+09</td>\n",
       "      <td>7.188000e+09</td>\n",
       "      <td>-6.020000e+08</td>\n",
       "    </tr>\n",
       "    <tr>\n",
       "      <th>Change To Liabilities</th>\n",
       "      <td>-8.600000e+08</td>\n",
       "      <td>1.318000e+09</td>\n",
       "      <td>-2.510000e+08</td>\n",
       "      <td>-5.730000e+08</td>\n",
       "    </tr>\n",
       "    <tr>\n",
       "      <th>Total Cashflows From Investing Activities</th>\n",
       "      <td>-1.477000e+09</td>\n",
       "      <td>-3.976000e+09</td>\n",
       "      <td>5.927000e+09</td>\n",
       "      <td>-2.312000e+09</td>\n",
       "    </tr>\n",
       "    <tr>\n",
       "      <th>Net Borrowings</th>\n",
       "      <td>-1.862000e+09</td>\n",
       "      <td>-1.841000e+09</td>\n",
       "      <td>-2.995000e+09</td>\n",
       "      <td>1.055000e+09</td>\n",
       "    </tr>\n",
       "    <tr>\n",
       "      <th>Total Cash From Financing Activities</th>\n",
       "      <td>-8.070000e+09</td>\n",
       "      <td>-9.004000e+09</td>\n",
       "      <td>-1.034700e+10</td>\n",
       "      <td>-7.447000e+09</td>\n",
       "    </tr>\n",
       "    <tr>\n",
       "      <th>Change To Operating Activities</th>\n",
       "      <td>5.850000e+08</td>\n",
       "      <td>-7.070000e+08</td>\n",
       "      <td>-7.960000e+08</td>\n",
       "      <td>4.558000e+09</td>\n",
       "    </tr>\n",
       "    <tr>\n",
       "      <th>Issuance Of Stock</th>\n",
       "      <td>6.470000e+08</td>\n",
       "      <td>1.012000e+09</td>\n",
       "      <td>1.476000e+09</td>\n",
       "      <td>1.595000e+09</td>\n",
       "    </tr>\n",
       "    <tr>\n",
       "      <th>Net Income</th>\n",
       "      <td>7.747000e+09</td>\n",
       "      <td>8.920000e+09</td>\n",
       "      <td>6.434000e+09</td>\n",
       "      <td>1.248000e+09</td>\n",
       "    </tr>\n",
       "    <tr>\n",
       "      <th>Change In Cash</th>\n",
       "      <td>3.730000e+08</td>\n",
       "      <td>-2.581000e+09</td>\n",
       "      <td>2.945000e+09</td>\n",
       "      <td>-2.477000e+09</td>\n",
       "    </tr>\n",
       "    <tr>\n",
       "      <th>Repurchase Of Stock</th>\n",
       "      <td>-1.180000e+08</td>\n",
       "      <td>-1.103000e+09</td>\n",
       "      <td>-1.912000e+09</td>\n",
       "      <td>-3.682000e+09</td>\n",
       "    </tr>\n",
       "    <tr>\n",
       "      <th>Effect Of Exchange Rate</th>\n",
       "      <td>7.600000e+07</td>\n",
       "      <td>-7.200000e+07</td>\n",
       "      <td>-2.620000e+08</td>\n",
       "      <td>2.410000e+08</td>\n",
       "    </tr>\n",
       "    <tr>\n",
       "      <th>Total Cash From Operating Activities</th>\n",
       "      <td>9.844000e+09</td>\n",
       "      <td>1.047100e+10</td>\n",
       "      <td>7.627000e+09</td>\n",
       "      <td>7.041000e+09</td>\n",
       "    </tr>\n",
       "    <tr>\n",
       "      <th>Depreciation</th>\n",
       "      <td>1.536000e+09</td>\n",
       "      <td>1.365000e+09</td>\n",
       "      <td>1.086000e+09</td>\n",
       "      <td>1.260000e+09</td>\n",
       "    </tr>\n",
       "    <tr>\n",
       "      <th>Other Cashflows From Investing Activities</th>\n",
       "      <td>1.220000e+08</td>\n",
       "      <td>-5.600000e+07</td>\n",
       "      <td>-6.000000e+07</td>\n",
       "      <td>-8.000000e+07</td>\n",
       "    </tr>\n",
       "    <tr>\n",
       "      <th>Dividends Paid</th>\n",
       "      <td>-7.047000e+09</td>\n",
       "      <td>-6.845000e+09</td>\n",
       "      <td>-6.644000e+09</td>\n",
       "      <td>-6.320000e+09</td>\n",
       "    </tr>\n",
       "    <tr>\n",
       "      <th>Change To Inventory</th>\n",
       "      <td>9.900000e+07</td>\n",
       "      <td>-1.830000e+08</td>\n",
       "      <td>-2.030000e+08</td>\n",
       "      <td>-2.760000e+08</td>\n",
       "    </tr>\n",
       "    <tr>\n",
       "      <th>Change To Account Receivables</th>\n",
       "      <td>8.820000e+08</td>\n",
       "      <td>-1.580000e+08</td>\n",
       "      <td>2.700000e+07</td>\n",
       "      <td>-1.080000e+08</td>\n",
       "    </tr>\n",
       "    <tr>\n",
       "      <th>Other Cashflows From Financing Activities</th>\n",
       "      <td>3.100000e+08</td>\n",
       "      <td>-2.270000e+08</td>\n",
       "      <td>-2.720000e+08</td>\n",
       "      <td>-9.500000e+07</td>\n",
       "    </tr>\n",
       "    <tr>\n",
       "      <th>Change To Netincome</th>\n",
       "      <td>-1.290000e+08</td>\n",
       "      <td>-1.800000e+08</td>\n",
       "      <td>1.347000e+09</td>\n",
       "      <td>1.091000e+09</td>\n",
       "    </tr>\n",
       "    <tr>\n",
       "      <th>Capital Expenditures</th>\n",
       "      <td>-1.177000e+09</td>\n",
       "      <td>-2.054000e+09</td>\n",
       "      <td>-1.548000e+09</td>\n",
       "      <td>-1.750000e+09</td>\n",
       "    </tr>\n",
       "  </tbody>\n",
       "</table>\n",
       "</div>"
      ],
      "text/plain": [
       "                                             2020-12-31    2019-12-31  \\\n",
       "Investments                                2.520000e+08  2.269000e+09   \n",
       "Change To Liabilities                     -8.600000e+08  1.318000e+09   \n",
       "Total Cashflows From Investing Activities -1.477000e+09 -3.976000e+09   \n",
       "Net Borrowings                            -1.862000e+09 -1.841000e+09   \n",
       "Total Cash From Financing Activities      -8.070000e+09 -9.004000e+09   \n",
       "Change To Operating Activities             5.850000e+08 -7.070000e+08   \n",
       "Issuance Of Stock                          6.470000e+08  1.012000e+09   \n",
       "Net Income                                 7.747000e+09  8.920000e+09   \n",
       "Change In Cash                             3.730000e+08 -2.581000e+09   \n",
       "Repurchase Of Stock                       -1.180000e+08 -1.103000e+09   \n",
       "Effect Of Exchange Rate                    7.600000e+07 -7.200000e+07   \n",
       "Total Cash From Operating Activities       9.844000e+09  1.047100e+10   \n",
       "Depreciation                               1.536000e+09  1.365000e+09   \n",
       "Other Cashflows From Investing Activities  1.220000e+08 -5.600000e+07   \n",
       "Dividends Paid                            -7.047000e+09 -6.845000e+09   \n",
       "Change To Inventory                        9.900000e+07 -1.830000e+08   \n",
       "Change To Account Receivables              8.820000e+08 -1.580000e+08   \n",
       "Other Cashflows From Financing Activities  3.100000e+08 -2.270000e+08   \n",
       "Change To Netincome                       -1.290000e+08 -1.800000e+08   \n",
       "Capital Expenditures                      -1.177000e+09 -2.054000e+09   \n",
       "\n",
       "                                             2018-12-31    2017-12-31  \n",
       "Investments                                7.188000e+09 -6.020000e+08  \n",
       "Change To Liabilities                     -2.510000e+08 -5.730000e+08  \n",
       "Total Cashflows From Investing Activities  5.927000e+09 -2.312000e+09  \n",
       "Net Borrowings                            -2.995000e+09  1.055000e+09  \n",
       "Total Cash From Financing Activities      -1.034700e+10 -7.447000e+09  \n",
       "Change To Operating Activities            -7.960000e+08  4.558000e+09  \n",
       "Issuance Of Stock                          1.476000e+09  1.595000e+09  \n",
       "Net Income                                 6.434000e+09  1.248000e+09  \n",
       "Change In Cash                             2.945000e+09 -2.477000e+09  \n",
       "Repurchase Of Stock                       -1.912000e+09 -3.682000e+09  \n",
       "Effect Of Exchange Rate                   -2.620000e+08  2.410000e+08  \n",
       "Total Cash From Operating Activities       7.627000e+09  7.041000e+09  \n",
       "Depreciation                               1.086000e+09  1.260000e+09  \n",
       "Other Cashflows From Investing Activities -6.000000e+07 -8.000000e+07  \n",
       "Dividends Paid                            -6.644000e+09 -6.320000e+09  \n",
       "Change To Inventory                       -2.030000e+08 -2.760000e+08  \n",
       "Change To Account Receivables              2.700000e+07 -1.080000e+08  \n",
       "Other Cashflows From Financing Activities -2.720000e+08 -9.500000e+07  \n",
       "Change To Netincome                        1.347000e+09  1.091000e+09  \n",
       "Capital Expenditures                      -1.548000e+09 -1.750000e+09  "
      ]
     },
     "execution_count": 5,
     "metadata": {},
     "output_type": "execute_result"
    }
   ],
   "source": [
    "cashflow_df = ticker_object.cashflow\n",
    "cashflow_df"
   ]
  },
  {
   "cell_type": "markdown",
   "id": "68369ab9",
   "metadata": {},
   "source": [
    "### ii. Getting net operating cash flow"
   ]
  },
  {
   "cell_type": "code",
   "execution_count": 6,
   "id": "11f32112",
   "metadata": {},
   "outputs": [
    {
     "data": {
      "text/plain": [
       "[9844000000.0, 10471000000.0, 7627000000.0, 7041000000.0]"
      ]
     },
     "execution_count": 6,
     "metadata": {},
     "output_type": "execute_result"
    }
   ],
   "source": [
    "net_OP_CF = list(cashflow_df.loc['Total Cash From Operating Activities'])\n",
    "net_OP_CF"
   ]
  },
  {
   "cell_type": "markdown",
   "id": "fa8b7d8c",
   "metadata": {},
   "source": [
    "### iii. Getting capital expenditures"
   ]
  },
  {
   "cell_type": "code",
   "execution_count": 7,
   "id": "10e869cb",
   "metadata": {},
   "outputs": [
    {
     "data": {
      "text/plain": [
       "[-1177000000.0, -2054000000.0, -1548000000.0, -1750000000.0]"
      ]
     },
     "execution_count": 7,
     "metadata": {},
     "output_type": "execute_result"
    }
   ],
   "source": [
    "cap_ex = list(cashflow_df.loc['Capital Expenditures'])\n",
    "cap_ex"
   ]
  },
  {
   "cell_type": "markdown",
   "id": "a1d84ff6",
   "metadata": {},
   "source": [
    "### iv. Calculate historical FCF"
   ]
  },
  {
   "cell_type": "code",
   "execution_count": 8,
   "id": "3f092306",
   "metadata": {},
   "outputs": [
    {
     "data": {
      "text/plain": [
       "[5291000000.0, 6079000000.0, 8417000000.0, 8667000000.0]"
      ]
     },
     "execution_count": 8,
     "metadata": {},
     "output_type": "execute_result"
    }
   ],
   "source": [
    "hist_FCF = []\n",
    "len(list(cashflow_df.columns.values))\n",
    "for i in range(NUM_OF_YEARS):\n",
    "    hist_FCF.append(net_OP_CF[i] + cap_ex[i])\n",
    "\n",
    "hist_FCF\n",
    "\n",
    "# Rearrange from oldest to latest year\n",
    "hist_FCF = hist_FCF[::-1]\n",
    "hist_FCF"
   ]
  },
  {
   "cell_type": "markdown",
   "id": "b1be0370",
   "metadata": {},
   "source": [
    "# Step 2. Getting forecasted FCF"
   ]
  },
  {
   "cell_type": "markdown",
   "id": "fd01acf1",
   "metadata": {},
   "source": [
    "## 2.1 Find average revenue growth rate"
   ]
  },
  {
   "cell_type": "markdown",
   "id": "36a349fa",
   "metadata": {},
   "source": [
    "### i. Accessing the financial statement "
   ]
  },
  {
   "cell_type": "code",
   "execution_count": 9,
   "id": "4d52c21f",
   "metadata": {},
   "outputs": [
    {
     "data": {
      "text/html": [
       "<div>\n",
       "<style scoped>\n",
       "    .dataframe tbody tr th:only-of-type {\n",
       "        vertical-align: middle;\n",
       "    }\n",
       "\n",
       "    .dataframe tbody tr th {\n",
       "        vertical-align: top;\n",
       "    }\n",
       "\n",
       "    .dataframe thead th {\n",
       "        text-align: right;\n",
       "    }\n",
       "</style>\n",
       "<table border=\"1\" class=\"dataframe\">\n",
       "  <thead>\n",
       "    <tr style=\"text-align: right;\">\n",
       "      <th></th>\n",
       "      <th>2020-12-31</th>\n",
       "      <th>2019-12-31</th>\n",
       "      <th>2018-12-31</th>\n",
       "      <th>2017-12-31</th>\n",
       "    </tr>\n",
       "  </thead>\n",
       "  <tbody>\n",
       "    <tr>\n",
       "      <th>Research Development</th>\n",
       "      <td>None</td>\n",
       "      <td>None</td>\n",
       "      <td>None</td>\n",
       "      <td>None</td>\n",
       "    </tr>\n",
       "    <tr>\n",
       "      <th>Effect Of Accounting Charges</th>\n",
       "      <td>None</td>\n",
       "      <td>None</td>\n",
       "      <td>None</td>\n",
       "      <td>None</td>\n",
       "    </tr>\n",
       "    <tr>\n",
       "      <th>Income Before Tax</th>\n",
       "      <td>9749000000.0</td>\n",
       "      <td>10786000000.0</td>\n",
       "      <td>8225000000.0</td>\n",
       "      <td>6890000000.0</td>\n",
       "    </tr>\n",
       "    <tr>\n",
       "      <th>Minority Interest</th>\n",
       "      <td>1985000000.0</td>\n",
       "      <td>2117000000.0</td>\n",
       "      <td>2077000000.0</td>\n",
       "      <td>1905000000.0</td>\n",
       "    </tr>\n",
       "    <tr>\n",
       "      <th>Net Income</th>\n",
       "      <td>7747000000.0</td>\n",
       "      <td>8920000000.0</td>\n",
       "      <td>6434000000.0</td>\n",
       "      <td>1248000000.0</td>\n",
       "    </tr>\n",
       "    <tr>\n",
       "      <th>Selling General Administrative</th>\n",
       "      <td>9579000000.0</td>\n",
       "      <td>12011000000.0</td>\n",
       "      <td>11013000000.0</td>\n",
       "      <td>12901000000.0</td>\n",
       "    </tr>\n",
       "    <tr>\n",
       "      <th>Gross Profit</th>\n",
       "      <td>19581000000.0</td>\n",
       "      <td>22647000000.0</td>\n",
       "      <td>21233000000.0</td>\n",
       "      <td>22491000000.0</td>\n",
       "    </tr>\n",
       "    <tr>\n",
       "      <th>Ebit</th>\n",
       "      <td>9957000000.0</td>\n",
       "      <td>10625000000.0</td>\n",
       "      <td>10203000000.0</td>\n",
       "      <td>9340000000.0</td>\n",
       "    </tr>\n",
       "    <tr>\n",
       "      <th>Operating Income</th>\n",
       "      <td>9957000000.0</td>\n",
       "      <td>10625000000.0</td>\n",
       "      <td>10203000000.0</td>\n",
       "      <td>9340000000.0</td>\n",
       "    </tr>\n",
       "    <tr>\n",
       "      <th>Other Operating Expenses</th>\n",
       "      <td>45000000.0</td>\n",
       "      <td>11000000.0</td>\n",
       "      <td>17000000.0</td>\n",
       "      <td>250000000.0</td>\n",
       "    </tr>\n",
       "    <tr>\n",
       "      <th>Interest Expense</th>\n",
       "      <td>-1437000000.0</td>\n",
       "      <td>-946000000.0</td>\n",
       "      <td>-950000000.0</td>\n",
       "      <td>-853000000.0</td>\n",
       "    </tr>\n",
       "    <tr>\n",
       "      <th>Extraordinary Items</th>\n",
       "      <td>None</td>\n",
       "      <td>None</td>\n",
       "      <td>None</td>\n",
       "      <td>None</td>\n",
       "    </tr>\n",
       "    <tr>\n",
       "      <th>Non Recurring</th>\n",
       "      <td>None</td>\n",
       "      <td>None</td>\n",
       "      <td>None</td>\n",
       "      <td>None</td>\n",
       "    </tr>\n",
       "    <tr>\n",
       "      <th>Other Items</th>\n",
       "      <td>None</td>\n",
       "      <td>None</td>\n",
       "      <td>None</td>\n",
       "      <td>None</td>\n",
       "    </tr>\n",
       "    <tr>\n",
       "      <th>Income Tax Expense</th>\n",
       "      <td>1981000000.0</td>\n",
       "      <td>1801000000.0</td>\n",
       "      <td>1749000000.0</td>\n",
       "      <td>5607000000.0</td>\n",
       "    </tr>\n",
       "    <tr>\n",
       "      <th>Total Revenue</th>\n",
       "      <td>33014000000.0</td>\n",
       "      <td>37266000000.0</td>\n",
       "      <td>34300000000.0</td>\n",
       "      <td>36212000000.0</td>\n",
       "    </tr>\n",
       "    <tr>\n",
       "      <th>Total Operating Expenses</th>\n",
       "      <td>23057000000.0</td>\n",
       "      <td>26641000000.0</td>\n",
       "      <td>24097000000.0</td>\n",
       "      <td>26872000000.0</td>\n",
       "    </tr>\n",
       "    <tr>\n",
       "      <th>Cost Of Revenue</th>\n",
       "      <td>13433000000.0</td>\n",
       "      <td>14619000000.0</td>\n",
       "      <td>13067000000.0</td>\n",
       "      <td>13721000000.0</td>\n",
       "    </tr>\n",
       "    <tr>\n",
       "      <th>Total Other Income Expense Net</th>\n",
       "      <td>-208000000.0</td>\n",
       "      <td>161000000.0</td>\n",
       "      <td>-1978000000.0</td>\n",
       "      <td>-2450000000.0</td>\n",
       "    </tr>\n",
       "    <tr>\n",
       "      <th>Discontinued Operations</th>\n",
       "      <td>None</td>\n",
       "      <td>None</td>\n",
       "      <td>None</td>\n",
       "      <td>None</td>\n",
       "    </tr>\n",
       "    <tr>\n",
       "      <th>Net Income From Continuing Ops</th>\n",
       "      <td>7768000000.0</td>\n",
       "      <td>8985000000.0</td>\n",
       "      <td>6476000000.0</td>\n",
       "      <td>1283000000.0</td>\n",
       "    </tr>\n",
       "    <tr>\n",
       "      <th>Net Income Applicable To Common Shares</th>\n",
       "      <td>7747000000.0</td>\n",
       "      <td>8920000000.0</td>\n",
       "      <td>6434000000.0</td>\n",
       "      <td>1248000000.0</td>\n",
       "    </tr>\n",
       "  </tbody>\n",
       "</table>\n",
       "</div>"
      ],
      "text/plain": [
       "                                           2020-12-31     2019-12-31  \\\n",
       "Research Development                             None           None   \n",
       "Effect Of Accounting Charges                     None           None   \n",
       "Income Before Tax                        9749000000.0  10786000000.0   \n",
       "Minority Interest                        1985000000.0   2117000000.0   \n",
       "Net Income                               7747000000.0   8920000000.0   \n",
       "Selling General Administrative           9579000000.0  12011000000.0   \n",
       "Gross Profit                            19581000000.0  22647000000.0   \n",
       "Ebit                                     9957000000.0  10625000000.0   \n",
       "Operating Income                         9957000000.0  10625000000.0   \n",
       "Other Operating Expenses                   45000000.0     11000000.0   \n",
       "Interest Expense                        -1437000000.0   -946000000.0   \n",
       "Extraordinary Items                              None           None   \n",
       "Non Recurring                                    None           None   \n",
       "Other Items                                      None           None   \n",
       "Income Tax Expense                       1981000000.0   1801000000.0   \n",
       "Total Revenue                           33014000000.0  37266000000.0   \n",
       "Total Operating Expenses                23057000000.0  26641000000.0   \n",
       "Cost Of Revenue                         13433000000.0  14619000000.0   \n",
       "Total Other Income Expense Net           -208000000.0    161000000.0   \n",
       "Discontinued Operations                          None           None   \n",
       "Net Income From Continuing Ops           7768000000.0   8985000000.0   \n",
       "Net Income Applicable To Common Shares   7747000000.0   8920000000.0   \n",
       "\n",
       "                                           2018-12-31     2017-12-31  \n",
       "Research Development                             None           None  \n",
       "Effect Of Accounting Charges                     None           None  \n",
       "Income Before Tax                        8225000000.0   6890000000.0  \n",
       "Minority Interest                        2077000000.0   1905000000.0  \n",
       "Net Income                               6434000000.0   1248000000.0  \n",
       "Selling General Administrative          11013000000.0  12901000000.0  \n",
       "Gross Profit                            21233000000.0  22491000000.0  \n",
       "Ebit                                    10203000000.0   9340000000.0  \n",
       "Operating Income                        10203000000.0   9340000000.0  \n",
       "Other Operating Expenses                   17000000.0    250000000.0  \n",
       "Interest Expense                         -950000000.0   -853000000.0  \n",
       "Extraordinary Items                              None           None  \n",
       "Non Recurring                                    None           None  \n",
       "Other Items                                      None           None  \n",
       "Income Tax Expense                       1749000000.0   5607000000.0  \n",
       "Total Revenue                           34300000000.0  36212000000.0  \n",
       "Total Operating Expenses                24097000000.0  26872000000.0  \n",
       "Cost Of Revenue                         13067000000.0  13721000000.0  \n",
       "Total Other Income Expense Net          -1978000000.0  -2450000000.0  \n",
       "Discontinued Operations                          None           None  \n",
       "Net Income From Continuing Ops           6476000000.0   1283000000.0  \n",
       "Net Income Applicable To Common Shares   6434000000.0   1248000000.0  "
      ]
     },
     "execution_count": 9,
     "metadata": {},
     "output_type": "execute_result"
    }
   ],
   "source": [
    "financials_df = ticker_object.financials\n",
    "financials_df"
   ]
  },
  {
   "cell_type": "markdown",
   "id": "fca600a3",
   "metadata": {},
   "source": [
    "### ii. Accessing the Total Revenue\n"
   ]
  },
  {
   "cell_type": "code",
   "execution_count": 10,
   "id": "e7843c8e",
   "metadata": {},
   "outputs": [],
   "source": [
    "hist_total_revenue = list(financials_df.loc['Total Revenue'])\n",
    "\n",
    "# Again, rearranging the order so it's easier to calculate the historical revenue growth\n",
    "hist_total_revenue = hist_total_revenue[::-1]\n",
    "\n"
   ]
  },
  {
   "cell_type": "markdown",
   "id": "e5afc6c4",
   "metadata": {},
   "source": [
    "### iii. Find average historical revenue growth rate"
   ]
  },
  {
   "cell_type": "code",
   "execution_count": 11,
   "id": "ca5c5105",
   "metadata": {},
   "outputs": [
    {
     "data": {
      "text/plain": [
       "-0.026808838574651047"
      ]
     },
     "execution_count": 11,
     "metadata": {},
     "output_type": "execute_result"
    }
   ],
   "source": [
    "def avg_rev_growth(hist_total_revenue):\n",
    "    \n",
    "    past_rev_growth = []\n",
    "    for i in range(1, NUM_OF_YEARS):\n",
    "        growth = (hist_total_revenue[i] - hist_total_revenue[i-1]) / hist_total_revenue[i-1] \n",
    "        past_rev_growth.append(growth)\n",
    "    \n",
    "    return sum(past_rev_growth)/len(past_rev_growth)\n",
    "\n",
    "avg_rev_growth = avg_rev_growth(hist_total_revenue)\n",
    "avg_rev_growth"
   ]
  },
  {
   "cell_type": "markdown",
   "id": "0fa53c6e",
   "metadata": {},
   "source": [
    "## 2.2 Find average net income/total revenue margin"
   ]
  },
  {
   "cell_type": "markdown",
   "id": "5e75a319",
   "metadata": {},
   "source": [
    "### i. Accessing historical net income"
   ]
  },
  {
   "cell_type": "code",
   "execution_count": 12,
   "id": "f5c4872c",
   "metadata": {},
   "outputs": [
    {
     "data": {
      "text/plain": [
       "[1248000000.0, 6434000000.0, 8920000000.0, 7747000000.0]"
      ]
     },
     "execution_count": 12,
     "metadata": {},
     "output_type": "execute_result"
    }
   ],
   "source": [
    "hist_net_income = list(financials_df.loc['Net Income'])\n",
    "\n",
    "# Again, rearranging the order so it's easier to calculate the net income margin per past year\n",
    "hist_net_income = hist_net_income[::-1]\n",
    "hist_net_income"
   ]
  },
  {
   "cell_type": "markdown",
   "id": "1f378c7c",
   "metadata": {},
   "source": [
    "### ii. Find average historical net income margin per year"
   ]
  },
  {
   "cell_type": "code",
   "execution_count": 13,
   "id": "5add38aa",
   "metadata": {},
   "outputs": [
    {
     "name": "stdout",
     "output_type": "stream",
     "text": [
      "[0.034463713686070915, 0.1875801749271137, 0.23936027478130198, 0.23465802386866177]\n"
     ]
    },
    {
     "data": {
      "text/plain": [
       "0.1740155468157871"
      ]
     },
     "execution_count": 13,
     "metadata": {},
     "output_type": "execute_result"
    }
   ],
   "source": [
    "def avg_netincome_margin(hist_net_income, hist_total_revenue):\n",
    "    \n",
    "    past_netincome_margin = []\n",
    "    for i in range(NUM_OF_YEARS):\n",
    "        netincome_margin = hist_net_income[i] / hist_total_revenue[i]\n",
    "        past_netincome_margin.append(netincome_margin)\n",
    "    print(past_netincome_margin)\n",
    "    return sum(past_netincome_margin) / len(past_netincome_margin)\n",
    "\n",
    "avg_netincome_margin = avg_netincome_margin(hist_net_income, hist_total_revenue)\n",
    "avg_netincome_margin"
   ]
  },
  {
   "cell_type": "markdown",
   "id": "43ecc428",
   "metadata": {},
   "source": [
    "## 2.3 Find average FCF/net income margin"
   ]
  },
  {
   "cell_type": "code",
   "execution_count": 14,
   "id": "47b98c37",
   "metadata": {},
   "outputs": [
    {
     "name": "stdout",
     "output_type": "stream",
     "text": [
      "[4.239583333333333, 0.9448243705315511, 0.943609865470852, 1.1187556473473603]\n"
     ]
    },
    {
     "data": {
      "text/plain": [
       "1.811693304170774"
      ]
     },
     "execution_count": 14,
     "metadata": {},
     "output_type": "execute_result"
    }
   ],
   "source": [
    "def avg_FCF_margin(hist_FCF, hist_net_income):\n",
    "    FCF_margin = []\n",
    "    for i in range(NUM_OF_YEARS):\n",
    "        margin = hist_FCF[i] / hist_net_income[i]\n",
    "        FCF_margin.append(margin)\n",
    "    \n",
    "    print(FCF_margin)\n",
    "    \n",
    "    return sum(FCF_margin) / len(FCF_margin)\n",
    "\n",
    "avg_FCF_margin = avg_FCF_margin(hist_FCF, hist_net_income)\n",
    "avg_FCF_margin"
   ]
  },
  {
   "cell_type": "markdown",
   "id": "978707ed",
   "metadata": {},
   "source": [
    "## 2.4 Find forecasted FCF"
   ]
  },
  {
   "cell_type": "markdown",
   "id": "64cea6eb",
   "metadata": {},
   "source": [
    "### i. Find forecasted Total Revenue"
   ]
  },
  {
   "cell_type": "code",
   "execution_count": 15,
   "id": "e73d3bc2",
   "metadata": {},
   "outputs": [
    {
     "data": {
      "text/plain": [
       "[32128933003.29647, 31267593624.83532, 30429345754.729324, 29613570336.45854]"
      ]
     },
     "execution_count": 15,
     "metadata": {},
     "output_type": "execute_result"
    }
   ],
   "source": [
    "def future_revenues(hist_total_revenue, avg_rev_growth):\n",
    "    future_revenues = []\n",
    "    \n",
    "    for i in range(NUM_OF_YEARS):\n",
    "        future_rev = hist_total_revenue[-1] * ((1 + avg_rev_growth))**(i + 1)\n",
    "        future_revenues.append(future_rev)\n",
    "    \n",
    "    return future_revenues\n",
    "\n",
    "future_revenues = future_revenues(hist_total_revenue, avg_rev_growth)\n",
    "future_revenues\n",
    "    "
   ]
  },
  {
   "cell_type": "markdown",
   "id": "9af6cf18",
   "metadata": {},
   "source": [
    "### ii. Find forecasted Net Income"
   ]
  },
  {
   "cell_type": "code",
   "execution_count": 16,
   "id": "01833751",
   "metadata": {},
   "outputs": [
    {
     "data": {
      "text/plain": [
       "[5590933845.176424, 5441047402.239536, 5295179240.755873, 5153221635.266605]"
      ]
     },
     "execution_count": 16,
     "metadata": {},
     "output_type": "execute_result"
    }
   ],
   "source": [
    "def future_netincomes(future_revenues, avg_netincome_margin):\n",
    "    future_netincomes = []\n",
    "    \n",
    "    for i in range(NUM_OF_YEARS):\n",
    "        future_NI = future_revenues[i] * avg_netincome_margin\n",
    "        future_netincomes.append(future_NI)\n",
    "\n",
    "    return future_netincomes\n",
    "\n",
    "future_netincomes = future_netincomes(future_revenues, avg_netincome_margin)\n",
    "future_netincomes"
   ]
  },
  {
   "cell_type": "markdown",
   "id": "3b03168f",
   "metadata": {},
   "source": [
    "### ii. Find forecasted FCF"
   ]
  },
  {
   "cell_type": "code",
   "execution_count": 17,
   "id": "1a98ec8e",
   "metadata": {},
   "outputs": [
    {
     "data": {
      "text/plain": [
       "[10129057411.367886, 9857509146.313152, 9593240774.861496, 9336057131.520475]"
      ]
     },
     "execution_count": 17,
     "metadata": {},
     "output_type": "execute_result"
    }
   ],
   "source": [
    "def future_FCFs(future_netincomes, avg_FCF_margin):\n",
    "    future_FCFs = []\n",
    "    \n",
    "    for i in range(NUM_OF_YEARS):\n",
    "        future_fcf = future_netincomes[i] * avg_FCF_margin\n",
    "        future_FCFs.append(future_fcf)\n",
    "        \n",
    "    return future_FCFs\n",
    "\n",
    "future_FCFs = future_FCFs(future_netincomes, avg_FCF_margin)\n",
    "future_FCFs"
   ]
  },
  {
   "cell_type": "markdown",
   "id": "352540c1",
   "metadata": {},
   "source": [
    "# Step 3. Find the required rate of return WACC"
   ]
  },
  {
   "cell_type": "code",
   "execution_count": 18,
   "id": "aaf0faea",
   "metadata": {},
   "outputs": [],
   "source": [
    "## Notice that for each of the components required to calculate WACC - cost of debt and cost of equity - \n",
    "# the calculator allow for inputing user's preferred rate, if they think the calculated value is unreasonable, \n",
    "# or incorrect due to missing line items in the balancesheet dataframe"
   ]
  },
  {
   "cell_type": "markdown",
   "id": "62b05a7b",
   "metadata": {},
   "source": [
    "## 3.1 Find the cost of equity"
   ]
  },
  {
   "cell_type": "code",
   "execution_count": 19,
   "id": "d9398d53",
   "metadata": {},
   "outputs": [
    {
     "name": "stdout",
     "output_type": "stream",
     "text": [
      "Would you like to use your own cost of equity?\n",
      "If no, the default rate will be calculated based on CAPM\n",
      "Type  in 'Y' or 'N': n\n",
      "\n",
      "Calculating cost of equity using CAPM...\n",
      "\n",
      "Would you like to use your own expected market return?\n",
      "If no, the default rate will be 10%\n",
      "Type  in 'Y' or 'N': n\n",
      "\n",
      "beta is:  0.662337\n",
      "r_f based on US 10 Treasury Yield is: 0.016450001000000002\n",
      "r_m is: 0.1\n",
      "Therefore, r_e is: 7.178825668766301%\n"
     ]
    }
   ],
   "source": [
    "def capm_calculator():\n",
    "    # Get beta \n",
    "    beta = ticker_object.info['beta']\n",
    "    if beta == None: \n",
    "        while True: \n",
    "            try:\n",
    "                beta = float(input(\"There is no beta available for this ticker\\nPlease input your own beta: \"))\n",
    "                beta_test = beta / 1\n",
    "                break\n",
    "            except ValueError: \n",
    "                continue \n",
    "    \n",
    "    # Get expected market return\n",
    "    while True:\n",
    "        r_m = input(\"Would you like to use your own expected market return?\\nIf no, the default rate will be 10%\\nType  in 'Y' or 'N': \")\n",
    "        if r_m.lower() == 'y' or r_m.lower() == 'n':\n",
    "            break\n",
    "        else:\n",
    "            continue\n",
    "        \n",
    "    if r_m.lower() == 'y': \n",
    "        while True:\n",
    "            try:\n",
    "                r_m = input(\"Please input your preferred expected market return in %: \")\n",
    "                r_m = float(r_m)/100\n",
    "                break\n",
    "            except ValueError:\n",
    "                print('Please enter a valid number')\n",
    "    elif r_m.lower() == 'n':\n",
    "        r_m = 0.10\n",
    "    \n",
    "    # Get risk free rate\n",
    "    bond = yf.Ticker('^TNX')\n",
    "    r_f = bond.info['regularMarketPrice'] / 100\n",
    "    \n",
    "    # Calculate cost of equity\n",
    "    r_e = r_f + beta * (r_m - r_f)\n",
    "    \n",
    "    print(f'\\nbeta is:  {beta}')\n",
    "    print(f'r_f based on US 10 Treasury Yield is: {r_f}')\n",
    "    print(f'r_m is: {r_m}')\n",
    "        \n",
    "    return r_e\n",
    "\n",
    "# Getting cost of equity\n",
    "while True:\n",
    "        r_e = input(\"Would you like to use your own cost of equity?\\nIf no, the default rate will be calculated based on CAPM\\nType  in 'Y' or 'N': \")\n",
    "        if r_e.lower() == 'y' or r_e.lower() == 'n':\n",
    "            break\n",
    "        else:\n",
    "            continue\n",
    "            \n",
    "if r_e.lower() == 'y': \n",
    "    while True:\n",
    "        try:\n",
    "            r_e = input(\"Please input your custom cost of equity in %: \")\n",
    "            r_e = float(r_e)/100\n",
    "            break\n",
    "        except ValueError:\n",
    "            print('Please enter a valid number')\n",
    "elif r_e.lower() == 'n':\n",
    "    print(\"\\nCalculating cost of equity using CAPM...\\n\")\n",
    "    r_e = capm_calculator()\n",
    "    \n",
    "print(f'Therefore, r_e is: {r_e * 100}%')\n"
   ]
  },
  {
   "cell_type": "markdown",
   "id": "77952ca2",
   "metadata": {},
   "source": [
    "## 3.2 Find cost of debt"
   ]
  },
  {
   "cell_type": "code",
   "execution_count": 20,
   "id": "b2ec9879",
   "metadata": {},
   "outputs": [
    {
     "name": "stdout",
     "output_type": "stream",
     "text": [
      "Would you like to use your own cost of debt?\n",
      "If no, the default rate will be calculated based on historical income statement and balance sheet values\n",
      "Type  in 'Y' or 'N': n\n",
      "hist_total_debt is: [40615000000.0, 31790000000.0, 30419000000.0, 34519000000.0]\n",
      "hist_interest_exp is [-1437000000.0, -946000000.0, -950000000.0, -853000000.0]\n",
      "hist_r_d is [0.035381016865690014, 0.02975778546712803, 0.03123048094940662, 0.024711028708827024]\n",
      "\n",
      "\n",
      "r_d is: 3.027007799776292%\n"
     ]
    }
   ],
   "source": [
    "def cost_of_debt_calculator():\n",
    "    # Accessing the balance sheet\n",
    "    balancesheet_df = ticker_object.balancesheet\n",
    "    \n",
    "    # Find the historial total debt\n",
    "    hist_total_debt = list(balancesheet_df.loc['Short Long Term Debt'] + balancesheet_df.loc['Long Term Debt'])\n",
    "    print(f'hist_total_debt is: {hist_total_debt}')\n",
    "    \n",
    "    \n",
    "    # Find the historical interest expense\n",
    "    hist_interest_exp = list(financials_df.loc['Interest Expense'])\n",
    "    print(f'hist_interest_exp is {hist_interest_exp}')\n",
    "    \n",
    "    # Find the average cost of debt\n",
    "    hist_r_d = [abs(hist_interest_exp[i] / hist_total_debt[i]) for i in range(NUM_OF_YEARS)]\n",
    "    avg_hist_r_d = sum(hist_r_d) / len(hist_r_d)\n",
    "    print(f'hist_r_d is {hist_r_d}')\n",
    "    \n",
    "    return avg_hist_r_d\n",
    "\n",
    "# Getting cost of debt\n",
    "while True:\n",
    "        r_d = input(\"Would you like to use your own cost of debt?\\nIf no, the default rate will be calculated based on historical income statement and balance sheet values\\nType  in 'Y' or 'N': \")\n",
    "        if r_d.lower() == 'y' or r_d.lower() == 'n':\n",
    "            break\n",
    "        else:\n",
    "            continue\n",
    "            \n",
    "if r_d.lower() == 'y': \n",
    "    while True:\n",
    "        try:\n",
    "            r_d = input(\"Please input your custom cost of debt in %: \")\n",
    "            r_d = float(r_d)/100\n",
    "            break\n",
    "        except ValueError:\n",
    "            print('Please enter a valid number')\n",
    "elif r_d.lower() == 'n':\n",
    "    r_d = cost_of_debt_calculator()\n",
    "\n",
    "print('\\n')\n",
    "print(f'r_d is: {r_d * 100}%')"
   ]
  },
  {
   "cell_type": "markdown",
   "id": "60540d3a",
   "metadata": {},
   "source": [
    "## 3.3 Find the effective tax rate"
   ]
  },
  {
   "cell_type": "code",
   "execution_count": 21,
   "id": "19076b19",
   "metadata": {},
   "outputs": [
    {
     "name": "stdout",
     "output_type": "stream",
     "text": [
      "Would you like to use your own effective tax rate?\n",
      "If no, the default rate will be calculated based on historical income statement values\n",
      "Type  in 'Y' or 'N': n\n",
      "\n",
      "Effective tax rate is: 34.9152128271246%\n"
     ]
    }
   ],
   "source": [
    "def effective_tax_calculator():\n",
    "    hist_incomeb4_tax = list(financials_df.loc['Income Before Tax'])\n",
    "    hist_tax_expense = list(financials_df.loc['Income Tax Expense'])\n",
    "\n",
    "    hist_eff_tax_rate = [abs(hist_tax_expense[i]) / abs(hist_incomeb4_tax[i]) for i in range(NUM_OF_YEARS)]\n",
    "    avg_eff_tax_rate = sum(hist_eff_tax_rate) / len(hist_eff_tax_rate)\n",
    "    \n",
    "    return avg_eff_tax_rate\n",
    "\n",
    "# Getting effective tax rate\n",
    "while True:\n",
    "        tax_rate = input(\"Would you like to use your own effective tax rate?\\nIf no, the default rate will be calculated based on historical income statement values\\nType  in 'Y' or 'N': \")\n",
    "        if tax_rate.lower() == 'y' or tax_rate.lower() == 'n':\n",
    "            break\n",
    "        else:\n",
    "            continue\n",
    "            \n",
    "if tax_rate.lower() == 'y': \n",
    "    while True:\n",
    "        try:\n",
    "            tax_rate = input(\"Please input your custom tax rate in %: \")\n",
    "            tax_rate = float(tax_rate)/100\n",
    "            break\n",
    "        except ValueError:\n",
    "            print('Please enter a valid number')\n",
    "elif tax_rate.lower() == 'n':\n",
    "    tax_rate = effective_tax_calculator()\n",
    "    \n",
    "print(f'\\nEffective tax rate is: {tax_rate * 100}%')"
   ]
  },
  {
   "cell_type": "markdown",
   "id": "55fc6c1d",
   "metadata": {},
   "source": [
    "## 3.4 Find WACC"
   ]
  },
  {
   "cell_type": "code",
   "execution_count": 22,
   "id": "b40c1b6b",
   "metadata": {},
   "outputs": [
    {
     "name": "stdout",
     "output_type": "stream",
     "text": [
      "The cost of capital is: 6.406080115365026%\n"
     ]
    }
   ],
   "source": [
    "def wacc_calculator(r_e, r_d, tax_rate):\n",
    "    \n",
    "    # Getting the weight of debt and equity\n",
    "    equity_value = ticker_object.info['marketCap']\n",
    "    debt_value = ticker_object.info['totalDebt']\n",
    "    total_value = equity_value + debt_value\n",
    "    \n",
    "    weight_of_equity = equity_value / total_value\n",
    "    weight_of_debt = debt_value / total_value\n",
    "    \n",
    "    \n",
    "    WACC = weight_of_debt * r_d * (1 - tax_rate) + weight_of_equity * r_e\n",
    "    \n",
    "    return WACC\n",
    "\n",
    "cost_of_capital = wacc_calculator(r_e, r_d, tax_rate)\n",
    "print(f'The cost of capital is: {cost_of_capital * 100}%')"
   ]
  },
  {
   "cell_type": "markdown",
   "id": "107e918a",
   "metadata": {},
   "source": [
    "# Step 4. Find the present value of all future FCF"
   ]
  },
  {
   "cell_type": "markdown",
   "id": "23d33ffc",
   "metadata": {},
   "source": [
    "## 4.1 Find the discount factor "
   ]
  },
  {
   "cell_type": "code",
   "execution_count": 23,
   "id": "12e1e5fb",
   "metadata": {},
   "outputs": [
    {
     "name": "stdout",
     "output_type": "stream",
     "text": [
      "The discount factors are: [0.9397959204171454, 0.8832163720327096, 0.8300431432819724, 0.7800711598266218]\n"
     ]
    }
   ],
   "source": [
    "def discount_factors(cost_of_capital):\n",
    "    \"\"\"\n",
    "    Returns a list of discount factors\n",
    "    \"\"\"\n",
    "    \n",
    "    discount_factors = []\n",
    "    for i in range(NUM_OF_YEARS):\n",
    "        d_factor = 1 / (1 + cost_of_capital)**(i+1)\n",
    "        discount_factors.append(d_factor)\n",
    "    \n",
    "    return discount_factors\n",
    "\n",
    "discount_factors = discount_factors(cost_of_capital)\n",
    "\n",
    "print(f'The discount factors are: {discount_factors}')\n",
    "        "
   ]
  },
  {
   "cell_type": "markdown",
   "id": "d1944e8e",
   "metadata": {},
   "source": [
    "## 4.2 Find the PV of forecasted FCF"
   ]
  },
  {
   "cell_type": "code",
   "execution_count": 24,
   "id": "47287f8b",
   "metadata": {},
   "outputs": [
    {
     "name": "stdout",
     "output_type": "stream",
     "text": [
      "[10129057411.367886, 9857509146.313152, 9593240774.861496, 9336057131.520475]\n"
     ]
    }
   ],
   "source": [
    "def pv_forecasted_FCF(future_FCFs, discount_factors): \n",
    "    pv_forecasted_FCF = []\n",
    "    for i in range(NUM_OF_YEARS):\n",
    "        pv_forecasted_FCF.append(future_FCFs[i] * discount_factors[i])\n",
    "    \n",
    "    return pv_forecasted_FCF\n",
    "\n",
    "pv_forecasted_FCF = pv_forecasted_FCF(future_FCFs, discount_factors)\n",
    "\n",
    "print(future_FCFs)"
   ]
  },
  {
   "cell_type": "markdown",
   "id": "b18e087f",
   "metadata": {},
   "source": [
    "## 4.3 Find the terminal value and its PV"
   ]
  },
  {
   "cell_type": "code",
   "execution_count": 25,
   "id": "2ae082dd",
   "metadata": {},
   "outputs": [
    {
     "name": "stdout",
     "output_type": "stream",
     "text": [
      "Would you like to use your own perpetual growth rate?\n",
      "If no, the default rate will be 2.5%\n",
      "Type  in 'Y' or 'N': n\n",
      "244988793808.0403\n",
      "191108692530.3631\n"
     ]
    }
   ],
   "source": [
    "def pv_terminal_value(future_FCFs, cost_of_capital, discount_factors):\n",
    "    \n",
    "    # First, we need to determine the growth rate\n",
    "    # Default growth rate will be 2.5%\n",
    "    while True:\n",
    "        growth_rate = input(\"Would you like to use your own perpetual growth rate?\\nIf no, the default rate will be 2.5%\\nType  in 'Y' or 'N': \")\n",
    "        if growth_rate.lower() == 'y' or growth_rate.lower() == 'n':\n",
    "            break\n",
    "        else:\n",
    "            continue\n",
    "            \n",
    "    if growth_rate.lower() == 'y': \n",
    "        while True:\n",
    "            try:\n",
    "                growth_rate = input(\"Please input your custom tax rate in %: \")\n",
    "                growth_rate = float(growth_rate)/100\n",
    "                break\n",
    "            except ValueError:\n",
    "                print('Please enter a valid number')\n",
    "    elif growth_rate.lower() == 'n':\n",
    "        growth_rate = 0.025\n",
    "        \n",
    "    # Calculate terminal value \n",
    "    terminal_value = (future_FCFs[-1] * (1 + growth_rate)) / (cost_of_capital - growth_rate)\n",
    "    print(terminal_value)\n",
    "    \n",
    "    # Calculate the PV of terminal value\n",
    "    pv_terminal_value = terminal_value * discount_factors[-1]\n",
    "    \n",
    "    return pv_terminal_value\n",
    "\n",
    "pv_terminal_value = pv_terminal_value(future_FCFs, cost_of_capital, discount_factors) \n",
    "print(pv_terminal_value)"
   ]
  },
  {
   "cell_type": "markdown",
   "id": "19cd5d55",
   "metadata": {},
   "source": [
    "## 4.4 Find the sum of the PV of all future FCF"
   ]
  },
  {
   "cell_type": "code",
   "execution_count": 26,
   "id": "5444913e",
   "metadata": {},
   "outputs": [
    {
     "name": "stdout",
     "output_type": "stream",
     "text": [
      "[9519246832.87459, 8706313465.485954, 7962803727.02682, 7282788914.792781, 191108692530.3631]\n"
     ]
    }
   ],
   "source": [
    "pv_forecasted_FCF.append(pv_terminal_value)\n",
    "pv_all_future_FCF = pv_forecasted_FCF\n",
    "print(pv_all_future_FCF)"
   ]
  },
  {
   "cell_type": "markdown",
   "id": "9ea17bf8",
   "metadata": {},
   "source": [
    "# Step 5 (FINAL STEP). Find the intrinsic value of the stock"
   ]
  },
  {
   "cell_type": "code",
   "execution_count": 27,
   "id": "ec806af9",
   "metadata": {},
   "outputs": [
    {
     "name": "stdout",
     "output_type": "stream",
     "text": [
      "The intrinsic value of KO based on the discounted free cash flow analysis is: $51.99\n"
     ]
    }
   ],
   "source": [
    "def intrinsic_value(pv_all_future_FCF):\n",
    "    # Get the number of shares outstanding\n",
    "    num_shares_outstanding = ticker_object.info['sharesOutstanding']\n",
    "    \n",
    "    intrinsic_value = sum(pv_all_future_FCF) / num_shares_outstanding\n",
    "    \n",
    "    return intrinsic_value\n",
    "\n",
    "intrinsic_value = intrinsic_value(pv_all_future_FCF)\n",
    "\n",
    "print(f'The intrinsic value of {ticker.upper()} based on the discounted free cash flow analysis is: ${intrinsic_value:.2f}')"
   ]
  },
  {
   "cell_type": "code",
   "execution_count": null,
   "id": "ab8b91b6",
   "metadata": {},
   "outputs": [],
   "source": []
  }
 ],
 "metadata": {
  "kernelspec": {
   "display_name": "Python 3",
   "language": "python",
   "name": "python3"
  },
  "language_info": {
   "codemirror_mode": {
    "name": "ipython",
    "version": 3
   },
   "file_extension": ".py",
   "mimetype": "text/x-python",
   "name": "python",
   "nbconvert_exporter": "python",
   "pygments_lexer": "ipython3",
   "version": "3.8.8"
  }
 },
 "nbformat": 4,
 "nbformat_minor": 5
}
