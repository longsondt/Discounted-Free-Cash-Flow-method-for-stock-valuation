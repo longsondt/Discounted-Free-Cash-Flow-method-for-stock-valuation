{
 "cells": [
  {
   "cell_type": "markdown",
   "id": "62e47215",
   "metadata": {},
   "source": [
    "### Generate the ticker object"
   ]
  },
  {
   "cell_type": "code",
   "execution_count": 1,
   "id": "b8c91382",
   "metadata": {},
   "outputs": [
    {
     "name": "stdout",
     "output_type": "stream",
     "text": [
      "Type in the ticker symbol: aapl\n",
      "Apple Inc. designs, manufactures, and markets smartphones, personal computers, tablets, wearables, and accessories worldwide. It also sells various related services. In addition, the company offers iPhone, a line of smartphones; Mac, a line of personal computers; iPad, a line of multi-purpose tablets; AirPods Max, an over-ear wireless headphone; and wearables, home, and accessories comprising AirPods, Apple TV, Apple Watch, Beats products, HomePod, and iPod touch. Further, it provides AppleCare support services; cloud services store services; and operates various platforms, including the App Store that allow customers to discover and download applications and digital content, such as books, music, video, games, and podcasts. Additionally, the company offers various services, such as Apple Arcade, a game subscription service; Apple Music, which offers users a curated listening experience with on-demand radio stations; Apple News+, a subscription news and magazine service; Apple TV+, which offers exclusive original content; Apple Card, a co-branded credit card; and Apple Pay, a cashless payment service, as well as licenses its intellectual property. The company serves consumers, and small and mid-sized businesses; and the education, enterprise, and government markets. It distributes third-party applications for its products through the App Store. The company also sells its products through its retail and online stores, and direct sales force; and third-party cellular network carriers, wholesalers, retailers, and resellers. Apple Inc. was incorporated in 1977 and is headquartered in Cupertino, California.\n"
     ]
    }
   ],
   "source": [
    "import yfinance as yf\n",
    "\n",
    "while True:\n",
    "    try:\n",
    "        ticker = input(\"Type in the ticker symbol: \")\n",
    "        ticker_object = yf.Ticker(ticker)\n",
    "        print(ticker_object.info['longBusinessSummary'])\n",
    "        break\n",
    "    except KeyError:\n",
    "        print(\"Please enter a valid ticker symbol\")"
   ]
  },
  {
   "cell_type": "markdown",
   "id": "08f9be31",
   "metadata": {},
   "source": [
    "### Check whether the ticker has the needed financial statement line items"
   ]
  },
  {
   "cell_type": "code",
   "execution_count": 2,
   "id": "d60c325f",
   "metadata": {},
   "outputs": [],
   "source": [
    "## Some of the line items are missing when using yfinance to pull data from Yahoo! Finance.\n",
    "\n",
    "## For example, 'Capital Expenditure', which is required to find Free Cash Flow, \n",
    "# does not exist in the cash flow statement of JPM on both Yahoo! Finance and yfinance\n",
    "\n",
    "## Or, 'Total Debt' is not included when using .balancesheet on the ticker object,\n",
    "# which is required for estimating interest rate for WACC calculation. \n",
    "\n",
    "## We can estimate 'Total Debt' by adding 'Short Long Term Debt' and 'Long Term Debt' rows together,\n",
    "# but some tickers don't even have those two rows in their balancesheet data frame when using yfinance, like 'FB' or 'SNOW'. \n",
    "\n",
    "## The line items we must sure exist when using yfinance includes: \n",
    "# - 'Total Cash From Operating Activities'\n",
    "# - 'Capital Expenditures'\n",
    "# - 'Total Revenue'\n",
    "# - 'Net Income'\n",
    "\n",
    "## Optional line items required for calculating WACC. \n",
    "# - 'Short Long Term Debt'\n",
    "# - 'Long Term Debt'\n",
    "# - 'Interest Expense'\n",
    "# - 'Income Before Tax'\n",
    "# - 'Income Tax Expense'\n",
    "## Optional because without these items, or if the values for the item is NaN, the calculator wouldn't be able \n",
    "# to estimate the WACC by itself. But the user can still input their own cost of debt, cost of equity, if they choose to. \n",
    "## To see examples of tickers where automating WACC calculation doesn't work, try 'GOOG' or 'SNOW'"
   ]
  },
  {
   "cell_type": "code",
   "execution_count": 3,
   "id": "111eda36",
   "metadata": {},
   "outputs": [],
   "source": [
    "# Generate a set of row names for the line items we must have: \n",
    "must_have_items = {'Total Cash From Operating Activities', 'Capital Expenditures', \n",
    "                  'Total Revenue', 'Net Income'}\n",
    "\n",
    "# Generate a set of row names available of the current ticker's financial statements: \n",
    "cashflow_items = set(ticker_object.cashflow.index)\n",
    "incomestatement_items = set(ticker_object.financials.index)\n",
    "available_items = cashflow_items | incomestatement_items \n",
    "\n",
    "# If an item in the set of items we need is not present, we should re run the calculator with a different ticker\n",
    "if len(must_have_items.intersection(available_items)) < len(must_have_items):\n",
    "    print('The ticker does not meet the requirement for this calculator. Please re run the calculator with a new ticker')\n"
   ]
  },
  {
   "cell_type": "markdown",
   "id": "655110d9",
   "metadata": {},
   "source": [
    "### Generate a list of number of years"
   ]
  },
  {
   "cell_type": "code",
   "execution_count": 4,
   "id": "42c0e1d0",
   "metadata": {},
   "outputs": [],
   "source": [
    "# Since each company has a different number of historical financial \n",
    "# statements on yahoo finance, we need generate a list of years \n",
    "# to use in any upcoming iterations\n",
    "\n",
    "# The number of years available can be get from any financial statement dataframe number of columns\n",
    "# In this case, we use the income statment\n",
    "NUM_OF_YEARS = len(list(ticker_object.financials.columns.values))"
   ]
  },
  {
   "cell_type": "markdown",
   "id": "ba246b13",
   "metadata": {},
   "source": [
    "# Step 1. Getting historical FCF"
   ]
  },
  {
   "cell_type": "markdown",
   "id": "a781ae30",
   "metadata": {},
   "source": [
    "### i. Accessing the cash flow statement"
   ]
  },
  {
   "cell_type": "code",
   "execution_count": 5,
   "id": "1c845407",
   "metadata": {},
   "outputs": [
    {
     "data": {
      "text/html": [
       "<div>\n",
       "<style scoped>\n",
       "    .dataframe tbody tr th:only-of-type {\n",
       "        vertical-align: middle;\n",
       "    }\n",
       "\n",
       "    .dataframe tbody tr th {\n",
       "        vertical-align: top;\n",
       "    }\n",
       "\n",
       "    .dataframe thead th {\n",
       "        text-align: right;\n",
       "    }\n",
       "</style>\n",
       "<table border=\"1\" class=\"dataframe\">\n",
       "  <thead>\n",
       "    <tr style=\"text-align: right;\">\n",
       "      <th></th>\n",
       "      <th>2021-09-25</th>\n",
       "      <th>2020-09-26</th>\n",
       "      <th>2019-09-28</th>\n",
       "      <th>2018-09-29</th>\n",
       "    </tr>\n",
       "  </thead>\n",
       "  <tbody>\n",
       "    <tr>\n",
       "      <th>Investments</th>\n",
       "      <td>-2.819000e+09</td>\n",
       "      <td>5.335000e+09</td>\n",
       "      <td>5.809300e+10</td>\n",
       "      <td>3.084500e+10</td>\n",
       "    </tr>\n",
       "    <tr>\n",
       "      <th>Change To Liabilities</th>\n",
       "      <td>1.400200e+10</td>\n",
       "      <td>-1.981000e+09</td>\n",
       "      <td>-2.548000e+09</td>\n",
       "      <td>9.172000e+09</td>\n",
       "    </tr>\n",
       "    <tr>\n",
       "      <th>Total Cashflows From Investing Activities</th>\n",
       "      <td>-1.454500e+10</td>\n",
       "      <td>-4.289000e+09</td>\n",
       "      <td>4.589600e+10</td>\n",
       "      <td>1.606600e+10</td>\n",
       "    </tr>\n",
       "    <tr>\n",
       "      <th>Net Borrowings</th>\n",
       "      <td>1.266500e+10</td>\n",
       "      <td>2.499000e+09</td>\n",
       "      <td>-7.819000e+09</td>\n",
       "      <td>4.320000e+08</td>\n",
       "    </tr>\n",
       "    <tr>\n",
       "      <th>Total Cash From Financing Activities</th>\n",
       "      <td>-9.335300e+10</td>\n",
       "      <td>-8.682000e+10</td>\n",
       "      <td>-9.097600e+10</td>\n",
       "      <td>-8.787600e+10</td>\n",
       "    </tr>\n",
       "    <tr>\n",
       "      <th>Change To Operating Activities</th>\n",
       "      <td>-6.146000e+09</td>\n",
       "      <td>8.810000e+08</td>\n",
       "      <td>-8.960000e+08</td>\n",
       "      <td>3.001600e+10</td>\n",
       "    </tr>\n",
       "    <tr>\n",
       "      <th>Issuance Of Stock</th>\n",
       "      <td>1.105000e+09</td>\n",
       "      <td>8.800000e+08</td>\n",
       "      <td>7.810000e+08</td>\n",
       "      <td>6.690000e+08</td>\n",
       "    </tr>\n",
       "    <tr>\n",
       "      <th>Net Income</th>\n",
       "      <td>9.468000e+10</td>\n",
       "      <td>5.741100e+10</td>\n",
       "      <td>5.525600e+10</td>\n",
       "      <td>5.953100e+10</td>\n",
       "    </tr>\n",
       "    <tr>\n",
       "      <th>Change In Cash</th>\n",
       "      <td>-3.860000e+09</td>\n",
       "      <td>-1.043500e+10</td>\n",
       "      <td>2.431100e+10</td>\n",
       "      <td>5.624000e+09</td>\n",
       "    </tr>\n",
       "    <tr>\n",
       "      <th>Repurchase Of Stock</th>\n",
       "      <td>-9.252700e+10</td>\n",
       "      <td>-7.599200e+10</td>\n",
       "      <td>-6.971400e+10</td>\n",
       "      <td>-7.526500e+10</td>\n",
       "    </tr>\n",
       "    <tr>\n",
       "      <th>Total Cash From Operating Activities</th>\n",
       "      <td>1.040380e+11</td>\n",
       "      <td>8.067400e+10</td>\n",
       "      <td>6.939100e+10</td>\n",
       "      <td>7.743400e+10</td>\n",
       "    </tr>\n",
       "    <tr>\n",
       "      <th>Depreciation</th>\n",
       "      <td>1.128400e+10</td>\n",
       "      <td>1.105600e+10</td>\n",
       "      <td>1.254700e+10</td>\n",
       "      <td>1.090300e+10</td>\n",
       "    </tr>\n",
       "    <tr>\n",
       "      <th>Other Cashflows From Investing Activities</th>\n",
       "      <td>-6.080000e+08</td>\n",
       "      <td>-7.910000e+08</td>\n",
       "      <td>-1.078000e+09</td>\n",
       "      <td>-7.450000e+08</td>\n",
       "    </tr>\n",
       "    <tr>\n",
       "      <th>Dividends Paid</th>\n",
       "      <td>-1.446700e+10</td>\n",
       "      <td>-1.408100e+10</td>\n",
       "      <td>-1.411900e+10</td>\n",
       "      <td>-1.371200e+10</td>\n",
       "    </tr>\n",
       "    <tr>\n",
       "      <th>Change To Inventory</th>\n",
       "      <td>-2.642000e+09</td>\n",
       "      <td>-1.270000e+08</td>\n",
       "      <td>-2.890000e+08</td>\n",
       "      <td>8.280000e+08</td>\n",
       "    </tr>\n",
       "    <tr>\n",
       "      <th>Change To Account Receivables</th>\n",
       "      <td>-1.012500e+10</td>\n",
       "      <td>6.917000e+09</td>\n",
       "      <td>2.450000e+08</td>\n",
       "      <td>-5.322000e+09</td>\n",
       "    </tr>\n",
       "    <tr>\n",
       "      <th>Other Cashflows From Financing Activities</th>\n",
       "      <td>-1.290000e+08</td>\n",
       "      <td>-1.260000e+08</td>\n",
       "      <td>-1.050000e+08</td>\n",
       "      <td>-1.050000e+08</td>\n",
       "    </tr>\n",
       "    <tr>\n",
       "      <th>Change To Netincome</th>\n",
       "      <td>2.985000e+09</td>\n",
       "      <td>6.517000e+09</td>\n",
       "      <td>5.076000e+09</td>\n",
       "      <td>-2.769400e+10</td>\n",
       "    </tr>\n",
       "    <tr>\n",
       "      <th>Capital Expenditures</th>\n",
       "      <td>-1.108500e+10</td>\n",
       "      <td>-7.309000e+09</td>\n",
       "      <td>-1.049500e+10</td>\n",
       "      <td>-1.331300e+10</td>\n",
       "    </tr>\n",
       "  </tbody>\n",
       "</table>\n",
       "</div>"
      ],
      "text/plain": [
       "                                             2021-09-25    2020-09-26  \\\n",
       "Investments                               -2.819000e+09  5.335000e+09   \n",
       "Change To Liabilities                      1.400200e+10 -1.981000e+09   \n",
       "Total Cashflows From Investing Activities -1.454500e+10 -4.289000e+09   \n",
       "Net Borrowings                             1.266500e+10  2.499000e+09   \n",
       "Total Cash From Financing Activities      -9.335300e+10 -8.682000e+10   \n",
       "Change To Operating Activities            -6.146000e+09  8.810000e+08   \n",
       "Issuance Of Stock                          1.105000e+09  8.800000e+08   \n",
       "Net Income                                 9.468000e+10  5.741100e+10   \n",
       "Change In Cash                            -3.860000e+09 -1.043500e+10   \n",
       "Repurchase Of Stock                       -9.252700e+10 -7.599200e+10   \n",
       "Total Cash From Operating Activities       1.040380e+11  8.067400e+10   \n",
       "Depreciation                               1.128400e+10  1.105600e+10   \n",
       "Other Cashflows From Investing Activities -6.080000e+08 -7.910000e+08   \n",
       "Dividends Paid                            -1.446700e+10 -1.408100e+10   \n",
       "Change To Inventory                       -2.642000e+09 -1.270000e+08   \n",
       "Change To Account Receivables             -1.012500e+10  6.917000e+09   \n",
       "Other Cashflows From Financing Activities -1.290000e+08 -1.260000e+08   \n",
       "Change To Netincome                        2.985000e+09  6.517000e+09   \n",
       "Capital Expenditures                      -1.108500e+10 -7.309000e+09   \n",
       "\n",
       "                                             2019-09-28    2018-09-29  \n",
       "Investments                                5.809300e+10  3.084500e+10  \n",
       "Change To Liabilities                     -2.548000e+09  9.172000e+09  \n",
       "Total Cashflows From Investing Activities  4.589600e+10  1.606600e+10  \n",
       "Net Borrowings                            -7.819000e+09  4.320000e+08  \n",
       "Total Cash From Financing Activities      -9.097600e+10 -8.787600e+10  \n",
       "Change To Operating Activities            -8.960000e+08  3.001600e+10  \n",
       "Issuance Of Stock                          7.810000e+08  6.690000e+08  \n",
       "Net Income                                 5.525600e+10  5.953100e+10  \n",
       "Change In Cash                             2.431100e+10  5.624000e+09  \n",
       "Repurchase Of Stock                       -6.971400e+10 -7.526500e+10  \n",
       "Total Cash From Operating Activities       6.939100e+10  7.743400e+10  \n",
       "Depreciation                               1.254700e+10  1.090300e+10  \n",
       "Other Cashflows From Investing Activities -1.078000e+09 -7.450000e+08  \n",
       "Dividends Paid                            -1.411900e+10 -1.371200e+10  \n",
       "Change To Inventory                       -2.890000e+08  8.280000e+08  \n",
       "Change To Account Receivables              2.450000e+08 -5.322000e+09  \n",
       "Other Cashflows From Financing Activities -1.050000e+08 -1.050000e+08  \n",
       "Change To Netincome                        5.076000e+09 -2.769400e+10  \n",
       "Capital Expenditures                      -1.049500e+10 -1.331300e+10  "
      ]
     },
     "execution_count": 5,
     "metadata": {},
     "output_type": "execute_result"
    }
   ],
   "source": [
    "cashflow_df = ticker_object.cashflow\n",
    "cashflow_df"
   ]
  },
  {
   "cell_type": "markdown",
   "id": "68369ab9",
   "metadata": {},
   "source": [
    "### ii. Getting net operating cash flow"
   ]
  },
  {
   "cell_type": "code",
   "execution_count": 6,
   "id": "11f32112",
   "metadata": {},
   "outputs": [
    {
     "data": {
      "text/plain": [
       "[104038000000.0, 80674000000.0, 69391000000.0, 77434000000.0]"
      ]
     },
     "execution_count": 6,
     "metadata": {},
     "output_type": "execute_result"
    }
   ],
   "source": [
    "net_OP_CF = list(cashflow_df.loc['Total Cash From Operating Activities'])\n",
    "net_OP_CF"
   ]
  },
  {
   "cell_type": "markdown",
   "id": "fa8b7d8c",
   "metadata": {},
   "source": [
    "### iii. Getting capital expenditures"
   ]
  },
  {
   "cell_type": "code",
   "execution_count": 7,
   "id": "10e869cb",
   "metadata": {},
   "outputs": [
    {
     "data": {
      "text/plain": [
       "[-11085000000.0, -7309000000.0, -10495000000.0, -13313000000.0]"
      ]
     },
     "execution_count": 7,
     "metadata": {},
     "output_type": "execute_result"
    }
   ],
   "source": [
    "cap_ex = list(cashflow_df.loc['Capital Expenditures'])\n",
    "cap_ex"
   ]
  },
  {
   "cell_type": "markdown",
   "id": "a1d84ff6",
   "metadata": {},
   "source": [
    "### iv. Calculate historical FCF"
   ]
  },
  {
   "cell_type": "code",
   "execution_count": 8,
   "id": "3f092306",
   "metadata": {},
   "outputs": [
    {
     "data": {
      "text/plain": [
       "[64121000000.0, 58896000000.0, 73365000000.0, 92953000000.0]"
      ]
     },
     "execution_count": 8,
     "metadata": {},
     "output_type": "execute_result"
    }
   ],
   "source": [
    "hist_FCF = []\n",
    "len(list(cashflow_df.columns.values))\n",
    "for i in range(NUM_OF_YEARS):\n",
    "    hist_FCF.append(net_OP_CF[i] + cap_ex[i])\n",
    "\n",
    "hist_FCF\n",
    "\n",
    "# Rearrange from oldest to latest year\n",
    "hist_FCF = hist_FCF[::-1]\n",
    "hist_FCF"
   ]
  },
  {
   "cell_type": "markdown",
   "id": "b1be0370",
   "metadata": {},
   "source": [
    "# Step 2. Getting forecasted FCF"
   ]
  },
  {
   "cell_type": "markdown",
   "id": "fd01acf1",
   "metadata": {},
   "source": [
    "## 2.1 Find average revenue growth rate"
   ]
  },
  {
   "cell_type": "markdown",
   "id": "36a349fa",
   "metadata": {},
   "source": [
    "### i. Accessing the financial statement "
   ]
  },
  {
   "cell_type": "code",
   "execution_count": 9,
   "id": "4d52c21f",
   "metadata": {},
   "outputs": [
    {
     "data": {
      "text/html": [
       "<div>\n",
       "<style scoped>\n",
       "    .dataframe tbody tr th:only-of-type {\n",
       "        vertical-align: middle;\n",
       "    }\n",
       "\n",
       "    .dataframe tbody tr th {\n",
       "        vertical-align: top;\n",
       "    }\n",
       "\n",
       "    .dataframe thead th {\n",
       "        text-align: right;\n",
       "    }\n",
       "</style>\n",
       "<table border=\"1\" class=\"dataframe\">\n",
       "  <thead>\n",
       "    <tr style=\"text-align: right;\">\n",
       "      <th></th>\n",
       "      <th>2021-09-25</th>\n",
       "      <th>2020-09-26</th>\n",
       "      <th>2019-09-28</th>\n",
       "      <th>2018-09-29</th>\n",
       "    </tr>\n",
       "  </thead>\n",
       "  <tbody>\n",
       "    <tr>\n",
       "      <th>Research Development</th>\n",
       "      <td>21914000000.0</td>\n",
       "      <td>18752000000.0</td>\n",
       "      <td>16217000000.0</td>\n",
       "      <td>14236000000.0</td>\n",
       "    </tr>\n",
       "    <tr>\n",
       "      <th>Effect Of Accounting Charges</th>\n",
       "      <td>None</td>\n",
       "      <td>None</td>\n",
       "      <td>None</td>\n",
       "      <td>None</td>\n",
       "    </tr>\n",
       "    <tr>\n",
       "      <th>Income Before Tax</th>\n",
       "      <td>109207000000.0</td>\n",
       "      <td>67091000000.0</td>\n",
       "      <td>65737000000.0</td>\n",
       "      <td>72903000000.0</td>\n",
       "    </tr>\n",
       "    <tr>\n",
       "      <th>Minority Interest</th>\n",
       "      <td>None</td>\n",
       "      <td>None</td>\n",
       "      <td>None</td>\n",
       "      <td>None</td>\n",
       "    </tr>\n",
       "    <tr>\n",
       "      <th>Net Income</th>\n",
       "      <td>94680000000.0</td>\n",
       "      <td>57411000000.0</td>\n",
       "      <td>55256000000.0</td>\n",
       "      <td>59531000000.0</td>\n",
       "    </tr>\n",
       "    <tr>\n",
       "      <th>Selling General Administrative</th>\n",
       "      <td>21973000000.0</td>\n",
       "      <td>19916000000.0</td>\n",
       "      <td>18245000000.0</td>\n",
       "      <td>16705000000.0</td>\n",
       "    </tr>\n",
       "    <tr>\n",
       "      <th>Gross Profit</th>\n",
       "      <td>152836000000.0</td>\n",
       "      <td>104956000000.0</td>\n",
       "      <td>98392000000.0</td>\n",
       "      <td>101839000000.0</td>\n",
       "    </tr>\n",
       "    <tr>\n",
       "      <th>Ebit</th>\n",
       "      <td>108949000000.0</td>\n",
       "      <td>66288000000.0</td>\n",
       "      <td>63930000000.0</td>\n",
       "      <td>70898000000.0</td>\n",
       "    </tr>\n",
       "    <tr>\n",
       "      <th>Operating Income</th>\n",
       "      <td>108949000000.0</td>\n",
       "      <td>66288000000.0</td>\n",
       "      <td>63930000000.0</td>\n",
       "      <td>70898000000.0</td>\n",
       "    </tr>\n",
       "    <tr>\n",
       "      <th>Other Operating Expenses</th>\n",
       "      <td>None</td>\n",
       "      <td>None</td>\n",
       "      <td>None</td>\n",
       "      <td>None</td>\n",
       "    </tr>\n",
       "    <tr>\n",
       "      <th>Interest Expense</th>\n",
       "      <td>-2645000000.0</td>\n",
       "      <td>-2873000000.0</td>\n",
       "      <td>-3576000000.0</td>\n",
       "      <td>-3240000000.0</td>\n",
       "    </tr>\n",
       "    <tr>\n",
       "      <th>Extraordinary Items</th>\n",
       "      <td>None</td>\n",
       "      <td>None</td>\n",
       "      <td>None</td>\n",
       "      <td>None</td>\n",
       "    </tr>\n",
       "    <tr>\n",
       "      <th>Non Recurring</th>\n",
       "      <td>None</td>\n",
       "      <td>None</td>\n",
       "      <td>None</td>\n",
       "      <td>None</td>\n",
       "    </tr>\n",
       "    <tr>\n",
       "      <th>Other Items</th>\n",
       "      <td>None</td>\n",
       "      <td>None</td>\n",
       "      <td>None</td>\n",
       "      <td>None</td>\n",
       "    </tr>\n",
       "    <tr>\n",
       "      <th>Income Tax Expense</th>\n",
       "      <td>14527000000.0</td>\n",
       "      <td>9680000000.0</td>\n",
       "      <td>10481000000.0</td>\n",
       "      <td>13372000000.0</td>\n",
       "    </tr>\n",
       "    <tr>\n",
       "      <th>Total Revenue</th>\n",
       "      <td>365817000000.0</td>\n",
       "      <td>274515000000.0</td>\n",
       "      <td>260174000000.0</td>\n",
       "      <td>265595000000.0</td>\n",
       "    </tr>\n",
       "    <tr>\n",
       "      <th>Total Operating Expenses</th>\n",
       "      <td>256868000000.0</td>\n",
       "      <td>208227000000.0</td>\n",
       "      <td>196244000000.0</td>\n",
       "      <td>194697000000.0</td>\n",
       "    </tr>\n",
       "    <tr>\n",
       "      <th>Cost Of Revenue</th>\n",
       "      <td>212981000000.0</td>\n",
       "      <td>169559000000.0</td>\n",
       "      <td>161782000000.0</td>\n",
       "      <td>163756000000.0</td>\n",
       "    </tr>\n",
       "    <tr>\n",
       "      <th>Total Other Income Expense Net</th>\n",
       "      <td>258000000.0</td>\n",
       "      <td>803000000.0</td>\n",
       "      <td>1807000000.0</td>\n",
       "      <td>2005000000.0</td>\n",
       "    </tr>\n",
       "    <tr>\n",
       "      <th>Discontinued Operations</th>\n",
       "      <td>None</td>\n",
       "      <td>None</td>\n",
       "      <td>None</td>\n",
       "      <td>None</td>\n",
       "    </tr>\n",
       "    <tr>\n",
       "      <th>Net Income From Continuing Ops</th>\n",
       "      <td>94680000000.0</td>\n",
       "      <td>57411000000.0</td>\n",
       "      <td>55256000000.0</td>\n",
       "      <td>59531000000.0</td>\n",
       "    </tr>\n",
       "    <tr>\n",
       "      <th>Net Income Applicable To Common Shares</th>\n",
       "      <td>94680000000.0</td>\n",
       "      <td>57411000000.0</td>\n",
       "      <td>55256000000.0</td>\n",
       "      <td>59531000000.0</td>\n",
       "    </tr>\n",
       "  </tbody>\n",
       "</table>\n",
       "</div>"
      ],
      "text/plain": [
       "                                            2021-09-25      2020-09-26  \\\n",
       "Research Development                     21914000000.0   18752000000.0   \n",
       "Effect Of Accounting Charges                      None            None   \n",
       "Income Before Tax                       109207000000.0   67091000000.0   \n",
       "Minority Interest                                 None            None   \n",
       "Net Income                               94680000000.0   57411000000.0   \n",
       "Selling General Administrative           21973000000.0   19916000000.0   \n",
       "Gross Profit                            152836000000.0  104956000000.0   \n",
       "Ebit                                    108949000000.0   66288000000.0   \n",
       "Operating Income                        108949000000.0   66288000000.0   \n",
       "Other Operating Expenses                          None            None   \n",
       "Interest Expense                         -2645000000.0   -2873000000.0   \n",
       "Extraordinary Items                               None            None   \n",
       "Non Recurring                                     None            None   \n",
       "Other Items                                       None            None   \n",
       "Income Tax Expense                       14527000000.0    9680000000.0   \n",
       "Total Revenue                           365817000000.0  274515000000.0   \n",
       "Total Operating Expenses                256868000000.0  208227000000.0   \n",
       "Cost Of Revenue                         212981000000.0  169559000000.0   \n",
       "Total Other Income Expense Net             258000000.0     803000000.0   \n",
       "Discontinued Operations                           None            None   \n",
       "Net Income From Continuing Ops           94680000000.0   57411000000.0   \n",
       "Net Income Applicable To Common Shares   94680000000.0   57411000000.0   \n",
       "\n",
       "                                            2019-09-28      2018-09-29  \n",
       "Research Development                     16217000000.0   14236000000.0  \n",
       "Effect Of Accounting Charges                      None            None  \n",
       "Income Before Tax                        65737000000.0   72903000000.0  \n",
       "Minority Interest                                 None            None  \n",
       "Net Income                               55256000000.0   59531000000.0  \n",
       "Selling General Administrative           18245000000.0   16705000000.0  \n",
       "Gross Profit                             98392000000.0  101839000000.0  \n",
       "Ebit                                     63930000000.0   70898000000.0  \n",
       "Operating Income                         63930000000.0   70898000000.0  \n",
       "Other Operating Expenses                          None            None  \n",
       "Interest Expense                         -3576000000.0   -3240000000.0  \n",
       "Extraordinary Items                               None            None  \n",
       "Non Recurring                                     None            None  \n",
       "Other Items                                       None            None  \n",
       "Income Tax Expense                       10481000000.0   13372000000.0  \n",
       "Total Revenue                           260174000000.0  265595000000.0  \n",
       "Total Operating Expenses                196244000000.0  194697000000.0  \n",
       "Cost Of Revenue                         161782000000.0  163756000000.0  \n",
       "Total Other Income Expense Net            1807000000.0    2005000000.0  \n",
       "Discontinued Operations                           None            None  \n",
       "Net Income From Continuing Ops           55256000000.0   59531000000.0  \n",
       "Net Income Applicable To Common Shares   55256000000.0   59531000000.0  "
      ]
     },
     "execution_count": 9,
     "metadata": {},
     "output_type": "execute_result"
    }
   ],
   "source": [
    "financials_df = ticker_object.financials\n",
    "financials_df"
   ]
  },
  {
   "cell_type": "markdown",
   "id": "fca600a3",
   "metadata": {},
   "source": [
    "### ii. Accessing the Total Revenue\n"
   ]
  },
  {
   "cell_type": "code",
   "execution_count": 10,
   "id": "e7843c8e",
   "metadata": {},
   "outputs": [],
   "source": [
    "hist_total_revenue = list(financials_df.loc['Total Revenue'])\n",
    "\n",
    "# Again, rearranging the order so it's easier to calculate the historical revenue growth\n",
    "hist_total_revenue = hist_total_revenue[::-1]\n",
    "\n"
   ]
  },
  {
   "cell_type": "markdown",
   "id": "e5afc6c4",
   "metadata": {},
   "source": [
    "### iii. Find average historical revenue growth rate"
   ]
  },
  {
   "cell_type": "code",
   "execution_count": 11,
   "id": "ca5c5105",
   "metadata": {},
   "outputs": [
    {
     "data": {
      "text/plain": [
       "0.12243462509842144"
      ]
     },
     "execution_count": 11,
     "metadata": {},
     "output_type": "execute_result"
    }
   ],
   "source": [
    "def avg_rev_growth(hist_total_revenue):\n",
    "    \n",
    "    past_rev_growth = []\n",
    "    for i in range(1, NUM_OF_YEARS):\n",
    "        growth = (hist_total_revenue[i] - hist_total_revenue[i-1]) / hist_total_revenue[i-1] \n",
    "        past_rev_growth.append(growth)\n",
    "    \n",
    "    return sum(past_rev_growth)/len(past_rev_growth)\n",
    "\n",
    "avg_rev_growth = avg_rev_growth(hist_total_revenue)\n",
    "avg_rev_growth"
   ]
  },
  {
   "cell_type": "markdown",
   "id": "0fa53c6e",
   "metadata": {},
   "source": [
    "## 2.2 Find average net income/total revenue margin"
   ]
  },
  {
   "cell_type": "markdown",
   "id": "5e75a319",
   "metadata": {},
   "source": [
    "### i. Accessing historical net income"
   ]
  },
  {
   "cell_type": "code",
   "execution_count": 12,
   "id": "f5c4872c",
   "metadata": {},
   "outputs": [
    {
     "data": {
      "text/plain": [
       "[59531000000.0, 55256000000.0, 57411000000.0, 94680000000.0]"
      ]
     },
     "execution_count": 12,
     "metadata": {},
     "output_type": "execute_result"
    }
   ],
   "source": [
    "hist_net_income = list(financials_df.loc['Net Income'])\n",
    "\n",
    "# Again, rearranging the order so it's easier to calculate the net income margin per past year\n",
    "hist_net_income = hist_net_income[::-1]\n",
    "hist_net_income"
   ]
  },
  {
   "cell_type": "markdown",
   "id": "1f378c7c",
   "metadata": {},
   "source": [
    "### ii. Find average historical net income margin per year"
   ]
  },
  {
   "cell_type": "code",
   "execution_count": 13,
   "id": "5add38aa",
   "metadata": {},
   "outputs": [
    {
     "name": "stdout",
     "output_type": "stream",
     "text": [
      "[0.22414202074587247, 0.21238094505984456, 0.20913611278072236, 0.2588179335569424]\n"
     ]
    },
    {
     "data": {
      "text/plain": [
       "0.22611925303584543"
      ]
     },
     "execution_count": 13,
     "metadata": {},
     "output_type": "execute_result"
    }
   ],
   "source": [
    "def avg_netincome_margin(hist_net_income, hist_total_revenue):\n",
    "    \n",
    "    past_netincome_margin = []\n",
    "    for i in range(NUM_OF_YEARS):\n",
    "        netincome_margin = hist_net_income[i] / hist_total_revenue[i]\n",
    "        past_netincome_margin.append(netincome_margin)\n",
    "    print(past_netincome_margin)\n",
    "    return sum(past_netincome_margin) / len(past_netincome_margin)\n",
    "\n",
    "avg_netincome_margin = avg_netincome_margin(hist_net_income, hist_total_revenue)\n",
    "avg_netincome_margin"
   ]
  },
  {
   "cell_type": "markdown",
   "id": "43ecc428",
   "metadata": {},
   "source": [
    "## 2.3 Find average FCF/net income margin"
   ]
  },
  {
   "cell_type": "code",
   "execution_count": 14,
   "id": "47b98c37",
   "metadata": {},
   "outputs": [
    {
     "name": "stdout",
     "output_type": "stream",
     "text": [
      "[1.0771026859955317, 1.065875199073404, 1.2778909964989287, 0.981759611322349]\n"
     ]
    },
    {
     "data": {
      "text/plain": [
       "1.1006571232225535"
      ]
     },
     "execution_count": 14,
     "metadata": {},
     "output_type": "execute_result"
    }
   ],
   "source": [
    "def avg_FCF_margin(hist_FCF, hist_net_income):\n",
    "    FCF_margin = []\n",
    "    for i in range(NUM_OF_YEARS):\n",
    "        margin = hist_FCF[i] / hist_net_income[i]\n",
    "        FCF_margin.append(margin)\n",
    "    \n",
    "    print(FCF_margin)\n",
    "    \n",
    "    return sum(FCF_margin) / len(FCF_margin)\n",
    "\n",
    "avg_FCF_margin = avg_FCF_margin(hist_FCF, hist_net_income)\n",
    "avg_FCF_margin"
   ]
  },
  {
   "cell_type": "markdown",
   "id": "978707ed",
   "metadata": {},
   "source": [
    "## 2.4 Find forecasted FCF"
   ]
  },
  {
   "cell_type": "markdown",
   "id": "64cea6eb",
   "metadata": {},
   "source": [
    "### i. Find forecasted Total Revenue"
   ]
  },
  {
   "cell_type": "code",
   "execution_count": 15,
   "id": "e73d3bc2",
   "metadata": {},
   "outputs": [
    {
     "data": {
      "text/plain": [
       "[410605667249.6292, 460878018182.62476, 517305445554.91785, 580641543842.806]"
      ]
     },
     "execution_count": 15,
     "metadata": {},
     "output_type": "execute_result"
    }
   ],
   "source": [
    "def future_revenues(hist_total_revenue, avg_rev_growth):\n",
    "    future_revenues = []\n",
    "    \n",
    "    for i in range(NUM_OF_YEARS):\n",
    "        future_rev = hist_total_revenue[-1] * ((1 + avg_rev_growth))**(i + 1)\n",
    "        future_revenues.append(future_rev)\n",
    "    \n",
    "    return future_revenues\n",
    "\n",
    "future_revenues = future_revenues(hist_total_revenue, avg_rev_growth)\n",
    "future_revenues\n",
    "    "
   ]
  },
  {
   "cell_type": "markdown",
   "id": "9af6cf18",
   "metadata": {},
   "source": [
    "### ii. Find forecasted Net Income"
   ]
  },
  {
   "cell_type": "code",
   "execution_count": 16,
   "id": "01833751",
   "metadata": {},
   "outputs": [
    {
     "data": {
      "text/plain": [
       "[92845846770.77106, 104213393212.0959, 116972720940.25323, 131294232175.3154]"
      ]
     },
     "execution_count": 16,
     "metadata": {},
     "output_type": "execute_result"
    }
   ],
   "source": [
    "def future_netincomes(future_revenues, avg_netincome_margin):\n",
    "    future_netincomes = []\n",
    "    \n",
    "    for i in range(NUM_OF_YEARS):\n",
    "        future_NI = future_revenues[i] * avg_netincome_margin\n",
    "        future_netincomes.append(future_NI)\n",
    "\n",
    "    return future_netincomes\n",
    "\n",
    "future_netincomes = future_netincomes(future_revenues, avg_netincome_margin)\n",
    "future_netincomes"
   ]
  },
  {
   "cell_type": "markdown",
   "id": "3b03168f",
   "metadata": {},
   "source": [
    "### ii. Find forecasted FCF"
   ]
  },
  {
   "cell_type": "code",
   "execution_count": 17,
   "id": "1a98ec8e",
   "metadata": {},
   "outputs": [
    {
     "data": {
      "text/plain": [
       "[102191442609.87888,\n",
       " 114703213574.08626,\n",
       " 128746858525.61366,\n",
       " 144509931881.79666]"
      ]
     },
     "execution_count": 17,
     "metadata": {},
     "output_type": "execute_result"
    }
   ],
   "source": [
    "def future_FCFs(future_netincomes, avg_FCF_margin):\n",
    "    future_FCFs = []\n",
    "    \n",
    "    for i in range(NUM_OF_YEARS):\n",
    "        future_fcf = future_netincomes[i] * avg_FCF_margin\n",
    "        future_FCFs.append(future_fcf)\n",
    "        \n",
    "    return future_FCFs\n",
    "\n",
    "future_FCFs = future_FCFs(future_netincomes, avg_FCF_margin)\n",
    "future_FCFs"
   ]
  },
  {
   "cell_type": "markdown",
   "id": "352540c1",
   "metadata": {},
   "source": [
    "# Step 3. Find the required rate of return WACC"
   ]
  },
  {
   "cell_type": "code",
   "execution_count": 18,
   "id": "aaf0faea",
   "metadata": {},
   "outputs": [],
   "source": [
    "## Notice that for each of the components required to calculate WACC - cost of debt and cost of equity - \n",
    "# the calculator allow for inputing user's preferred rate, if they think the calculated value is unreasonable, \n",
    "# or incorrect due to missing line items in the balancesheet dataframe"
   ]
  },
  {
   "cell_type": "markdown",
   "id": "62b05a7b",
   "metadata": {},
   "source": [
    "## 3.1 Find the cost of equity"
   ]
  },
  {
   "cell_type": "code",
   "execution_count": 19,
   "id": "d9398d53",
   "metadata": {},
   "outputs": [
    {
     "name": "stdout",
     "output_type": "stream",
     "text": [
      "Would you like to use your own cost of equity?\n",
      "If no, the default rate will be calculated based on CAPM\n",
      "Type  in 'Y' or 'N': n\n",
      "\n",
      "Calculating cost of equity using CAPM...\n",
      "\n",
      "Would you like to use your own expected market return?\n",
      "If no, the default rate will be 10%\n",
      "Type  in 'Y' or 'N': n\n"
     ]
    },
    {
     "ename": "KeyboardInterrupt",
     "evalue": "",
     "output_type": "error",
     "traceback": [
      "\u001b[1;31m---------------------------------------------------------------------------\u001b[0m",
      "\u001b[1;31mTimeoutError\u001b[0m                              Traceback (most recent call last)",
      "\u001b[1;32m~\\anaconda3\\lib\\site-packages\\urllib3\\util\\connection.py\u001b[0m in \u001b[0;36mcreate_connection\u001b[1;34m(address, timeout, source_address, socket_options)\u001b[0m\n\u001b[0;32m     85\u001b[0m                 \u001b[0msock\u001b[0m\u001b[1;33m.\u001b[0m\u001b[0mbind\u001b[0m\u001b[1;33m(\u001b[0m\u001b[0msource_address\u001b[0m\u001b[1;33m)\u001b[0m\u001b[1;33m\u001b[0m\u001b[1;33m\u001b[0m\u001b[0m\n\u001b[1;32m---> 86\u001b[1;33m             \u001b[0msock\u001b[0m\u001b[1;33m.\u001b[0m\u001b[0mconnect\u001b[0m\u001b[1;33m(\u001b[0m\u001b[0msa\u001b[0m\u001b[1;33m)\u001b[0m\u001b[1;33m\u001b[0m\u001b[1;33m\u001b[0m\u001b[0m\n\u001b[0m\u001b[0;32m     87\u001b[0m             \u001b[1;32mreturn\u001b[0m \u001b[0msock\u001b[0m\u001b[1;33m\u001b[0m\u001b[1;33m\u001b[0m\u001b[0m\n",
      "\u001b[1;31mTimeoutError\u001b[0m: [WinError 10060] A connection attempt failed because the connected party did not properly respond after a period of time, or established connection failed because connected host has failed to respond",
      "\nDuring handling of the above exception, another exception occurred:\n",
      "\u001b[1;31mKeyboardInterrupt\u001b[0m                         Traceback (most recent call last)",
      "\u001b[1;32m<ipython-input-19-16a5adadf0fd>\u001b[0m in \u001b[0;36m<module>\u001b[1;34m\u001b[0m\n\u001b[0;32m     61\u001b[0m \u001b[1;32melif\u001b[0m \u001b[0mr_e\u001b[0m\u001b[1;33m.\u001b[0m\u001b[0mlower\u001b[0m\u001b[1;33m(\u001b[0m\u001b[1;33m)\u001b[0m \u001b[1;33m==\u001b[0m \u001b[1;34m'n'\u001b[0m\u001b[1;33m:\u001b[0m\u001b[1;33m\u001b[0m\u001b[1;33m\u001b[0m\u001b[0m\n\u001b[0;32m     62\u001b[0m     \u001b[0mprint\u001b[0m\u001b[1;33m(\u001b[0m\u001b[1;34m\"\\nCalculating cost of equity using CAPM...\\n\"\u001b[0m\u001b[1;33m)\u001b[0m\u001b[1;33m\u001b[0m\u001b[1;33m\u001b[0m\u001b[0m\n\u001b[1;32m---> 63\u001b[1;33m     \u001b[0mr_e\u001b[0m \u001b[1;33m=\u001b[0m \u001b[0mcapm_calculator\u001b[0m\u001b[1;33m(\u001b[0m\u001b[1;33m)\u001b[0m\u001b[1;33m\u001b[0m\u001b[1;33m\u001b[0m\u001b[0m\n\u001b[0m\u001b[0;32m     64\u001b[0m \u001b[1;33m\u001b[0m\u001b[0m\n\u001b[0;32m     65\u001b[0m \u001b[0mprint\u001b[0m\u001b[1;33m(\u001b[0m\u001b[1;34mf'Therefore, r_e is: {r_e * 100}%'\u001b[0m\u001b[1;33m)\u001b[0m\u001b[1;33m\u001b[0m\u001b[1;33m\u001b[0m\u001b[0m\n",
      "\u001b[1;32m<ipython-input-19-16a5adadf0fd>\u001b[0m in \u001b[0;36mcapm_calculator\u001b[1;34m()\u001b[0m\n\u001b[0;32m     32\u001b[0m     \u001b[1;31m# Get risk free rate\u001b[0m\u001b[1;33m\u001b[0m\u001b[1;33m\u001b[0m\u001b[1;33m\u001b[0m\u001b[0m\n\u001b[0;32m     33\u001b[0m     \u001b[0mbond\u001b[0m \u001b[1;33m=\u001b[0m \u001b[0myf\u001b[0m\u001b[1;33m.\u001b[0m\u001b[0mTicker\u001b[0m\u001b[1;33m(\u001b[0m\u001b[1;34m'^TNX'\u001b[0m\u001b[1;33m)\u001b[0m\u001b[1;33m\u001b[0m\u001b[1;33m\u001b[0m\u001b[0m\n\u001b[1;32m---> 34\u001b[1;33m     \u001b[0mr_f\u001b[0m \u001b[1;33m=\u001b[0m \u001b[0mbond\u001b[0m\u001b[1;33m.\u001b[0m\u001b[0minfo\u001b[0m\u001b[1;33m[\u001b[0m\u001b[1;34m'regularMarketPrice'\u001b[0m\u001b[1;33m]\u001b[0m \u001b[1;33m/\u001b[0m \u001b[1;36m100\u001b[0m\u001b[1;33m\u001b[0m\u001b[1;33m\u001b[0m\u001b[0m\n\u001b[0m\u001b[0;32m     35\u001b[0m \u001b[1;33m\u001b[0m\u001b[0m\n\u001b[0;32m     36\u001b[0m     \u001b[1;31m# Calculate cost of equity\u001b[0m\u001b[1;33m\u001b[0m\u001b[1;33m\u001b[0m\u001b[1;33m\u001b[0m\u001b[0m\n",
      "\u001b[1;32m~\\anaconda3\\lib\\site-packages\\yfinance\\ticker.py\u001b[0m in \u001b[0;36minfo\u001b[1;34m(self)\u001b[0m\n\u001b[0;32m    141\u001b[0m     \u001b[1;33m@\u001b[0m\u001b[0mproperty\u001b[0m\u001b[1;33m\u001b[0m\u001b[1;33m\u001b[0m\u001b[0m\n\u001b[0;32m    142\u001b[0m     \u001b[1;32mdef\u001b[0m \u001b[0minfo\u001b[0m\u001b[1;33m(\u001b[0m\u001b[0mself\u001b[0m\u001b[1;33m)\u001b[0m\u001b[1;33m:\u001b[0m\u001b[1;33m\u001b[0m\u001b[1;33m\u001b[0m\u001b[0m\n\u001b[1;32m--> 143\u001b[1;33m         \u001b[1;32mreturn\u001b[0m \u001b[0mself\u001b[0m\u001b[1;33m.\u001b[0m\u001b[0mget_info\u001b[0m\u001b[1;33m(\u001b[0m\u001b[1;33m)\u001b[0m\u001b[1;33m\u001b[0m\u001b[1;33m\u001b[0m\u001b[0m\n\u001b[0m\u001b[0;32m    144\u001b[0m \u001b[1;33m\u001b[0m\u001b[0m\n\u001b[0;32m    145\u001b[0m     \u001b[1;33m@\u001b[0m\u001b[0mproperty\u001b[0m\u001b[1;33m\u001b[0m\u001b[1;33m\u001b[0m\u001b[0m\n",
      "\u001b[1;32m~\\anaconda3\\lib\\site-packages\\yfinance\\base.py\u001b[0m in \u001b[0;36mget_info\u001b[1;34m(self, proxy, as_dict, *args, **kwargs)\u001b[0m\n\u001b[0;32m    570\u001b[0m \u001b[1;33m\u001b[0m\u001b[0m\n\u001b[0;32m    571\u001b[0m     \u001b[1;32mdef\u001b[0m \u001b[0mget_info\u001b[0m\u001b[1;33m(\u001b[0m\u001b[0mself\u001b[0m\u001b[1;33m,\u001b[0m \u001b[0mproxy\u001b[0m\u001b[1;33m=\u001b[0m\u001b[1;32mNone\u001b[0m\u001b[1;33m,\u001b[0m \u001b[0mas_dict\u001b[0m\u001b[1;33m=\u001b[0m\u001b[1;32mFalse\u001b[0m\u001b[1;33m,\u001b[0m \u001b[1;33m*\u001b[0m\u001b[0margs\u001b[0m\u001b[1;33m,\u001b[0m \u001b[1;33m**\u001b[0m\u001b[0mkwargs\u001b[0m\u001b[1;33m)\u001b[0m\u001b[1;33m:\u001b[0m\u001b[1;33m\u001b[0m\u001b[1;33m\u001b[0m\u001b[0m\n\u001b[1;32m--> 572\u001b[1;33m         \u001b[0mself\u001b[0m\u001b[1;33m.\u001b[0m\u001b[0m_get_fundamentals\u001b[0m\u001b[1;33m(\u001b[0m\u001b[0mproxy\u001b[0m\u001b[1;33m=\u001b[0m\u001b[0mproxy\u001b[0m\u001b[1;33m)\u001b[0m\u001b[1;33m\u001b[0m\u001b[1;33m\u001b[0m\u001b[0m\n\u001b[0m\u001b[0;32m    573\u001b[0m         \u001b[0mdata\u001b[0m \u001b[1;33m=\u001b[0m \u001b[0mself\u001b[0m\u001b[1;33m.\u001b[0m\u001b[0m_info\u001b[0m\u001b[1;33m\u001b[0m\u001b[1;33m\u001b[0m\u001b[0m\n\u001b[0;32m    574\u001b[0m         \u001b[1;32mif\u001b[0m \u001b[0mas_dict\u001b[0m\u001b[1;33m:\u001b[0m\u001b[1;33m\u001b[0m\u001b[1;33m\u001b[0m\u001b[0m\n",
      "\u001b[1;32m~\\anaconda3\\lib\\site-packages\\yfinance\\base.py\u001b[0m in \u001b[0;36m_get_fundamentals\u001b[1;34m(self, kind, proxy)\u001b[0m\n\u001b[0;32m    464\u001b[0m \u001b[1;33m\u001b[0m\u001b[0m\n\u001b[0;32m    465\u001b[0m         \u001b[1;31m# get fundamentals\u001b[0m\u001b[1;33m\u001b[0m\u001b[1;33m\u001b[0m\u001b[1;33m\u001b[0m\u001b[0m\n\u001b[1;32m--> 466\u001b[1;33m         \u001b[0mdata\u001b[0m \u001b[1;33m=\u001b[0m \u001b[0mutils\u001b[0m\u001b[1;33m.\u001b[0m\u001b[0mget_json\u001b[0m\u001b[1;33m(\u001b[0m\u001b[0mticker_url\u001b[0m \u001b[1;33m+\u001b[0m \u001b[1;34m'/financials'\u001b[0m\u001b[1;33m,\u001b[0m \u001b[0mproxy\u001b[0m\u001b[1;33m,\u001b[0m \u001b[0mself\u001b[0m\u001b[1;33m.\u001b[0m\u001b[0msession\u001b[0m\u001b[1;33m)\u001b[0m\u001b[1;33m\u001b[0m\u001b[1;33m\u001b[0m\u001b[0m\n\u001b[0m\u001b[0;32m    467\u001b[0m \u001b[1;33m\u001b[0m\u001b[0m\n\u001b[0;32m    468\u001b[0m         \u001b[1;31m# generic patterns\u001b[0m\u001b[1;33m\u001b[0m\u001b[1;33m\u001b[0m\u001b[1;33m\u001b[0m\u001b[0m\n",
      "\u001b[1;32m~\\anaconda3\\lib\\site-packages\\yfinance\\utils.py\u001b[0m in \u001b[0;36mget_json\u001b[1;34m(url, proxy, session)\u001b[0m\n\u001b[0;32m     97\u001b[0m \u001b[1;32mdef\u001b[0m \u001b[0mget_json\u001b[0m\u001b[1;33m(\u001b[0m\u001b[0murl\u001b[0m\u001b[1;33m,\u001b[0m \u001b[0mproxy\u001b[0m\u001b[1;33m=\u001b[0m\u001b[1;32mNone\u001b[0m\u001b[1;33m,\u001b[0m \u001b[0msession\u001b[0m\u001b[1;33m=\u001b[0m\u001b[1;32mNone\u001b[0m\u001b[1;33m)\u001b[0m\u001b[1;33m:\u001b[0m\u001b[1;33m\u001b[0m\u001b[1;33m\u001b[0m\u001b[0m\n\u001b[0;32m     98\u001b[0m     \u001b[0msession\u001b[0m \u001b[1;33m=\u001b[0m \u001b[0msession\u001b[0m \u001b[1;32mor\u001b[0m \u001b[0m_requests\u001b[0m\u001b[1;33m\u001b[0m\u001b[1;33m\u001b[0m\u001b[0m\n\u001b[1;32m---> 99\u001b[1;33m     \u001b[0mhtml\u001b[0m \u001b[1;33m=\u001b[0m \u001b[0msession\u001b[0m\u001b[1;33m.\u001b[0m\u001b[0mget\u001b[0m\u001b[1;33m(\u001b[0m\u001b[0murl\u001b[0m\u001b[1;33m=\u001b[0m\u001b[0murl\u001b[0m\u001b[1;33m,\u001b[0m \u001b[0mproxies\u001b[0m\u001b[1;33m=\u001b[0m\u001b[0mproxy\u001b[0m\u001b[1;33m,\u001b[0m \u001b[0mheaders\u001b[0m\u001b[1;33m=\u001b[0m\u001b[0muser_agent_headers\u001b[0m\u001b[1;33m)\u001b[0m\u001b[1;33m.\u001b[0m\u001b[0mtext\u001b[0m\u001b[1;33m\u001b[0m\u001b[1;33m\u001b[0m\u001b[0m\n\u001b[0m\u001b[0;32m    100\u001b[0m \u001b[1;33m\u001b[0m\u001b[0m\n\u001b[0;32m    101\u001b[0m     \u001b[1;32mif\u001b[0m \u001b[1;34m\"QuoteSummaryStore\"\u001b[0m \u001b[1;32mnot\u001b[0m \u001b[1;32min\u001b[0m \u001b[0mhtml\u001b[0m\u001b[1;33m:\u001b[0m\u001b[1;33m\u001b[0m\u001b[1;33m\u001b[0m\u001b[0m\n",
      "\u001b[1;32m~\\anaconda3\\lib\\site-packages\\requests\\api.py\u001b[0m in \u001b[0;36mget\u001b[1;34m(url, params, **kwargs)\u001b[0m\n\u001b[0;32m     74\u001b[0m \u001b[1;33m\u001b[0m\u001b[0m\n\u001b[0;32m     75\u001b[0m     \u001b[0mkwargs\u001b[0m\u001b[1;33m.\u001b[0m\u001b[0msetdefault\u001b[0m\u001b[1;33m(\u001b[0m\u001b[1;34m'allow_redirects'\u001b[0m\u001b[1;33m,\u001b[0m \u001b[1;32mTrue\u001b[0m\u001b[1;33m)\u001b[0m\u001b[1;33m\u001b[0m\u001b[1;33m\u001b[0m\u001b[0m\n\u001b[1;32m---> 76\u001b[1;33m     \u001b[1;32mreturn\u001b[0m \u001b[0mrequest\u001b[0m\u001b[1;33m(\u001b[0m\u001b[1;34m'get'\u001b[0m\u001b[1;33m,\u001b[0m \u001b[0murl\u001b[0m\u001b[1;33m,\u001b[0m \u001b[0mparams\u001b[0m\u001b[1;33m=\u001b[0m\u001b[0mparams\u001b[0m\u001b[1;33m,\u001b[0m \u001b[1;33m**\u001b[0m\u001b[0mkwargs\u001b[0m\u001b[1;33m)\u001b[0m\u001b[1;33m\u001b[0m\u001b[1;33m\u001b[0m\u001b[0m\n\u001b[0m\u001b[0;32m     77\u001b[0m \u001b[1;33m\u001b[0m\u001b[0m\n\u001b[0;32m     78\u001b[0m \u001b[1;33m\u001b[0m\u001b[0m\n",
      "\u001b[1;32m~\\anaconda3\\lib\\site-packages\\requests\\api.py\u001b[0m in \u001b[0;36mrequest\u001b[1;34m(method, url, **kwargs)\u001b[0m\n\u001b[0;32m     59\u001b[0m     \u001b[1;31m# cases, and look like a memory leak in others.\u001b[0m\u001b[1;33m\u001b[0m\u001b[1;33m\u001b[0m\u001b[1;33m\u001b[0m\u001b[0m\n\u001b[0;32m     60\u001b[0m     \u001b[1;32mwith\u001b[0m \u001b[0msessions\u001b[0m\u001b[1;33m.\u001b[0m\u001b[0mSession\u001b[0m\u001b[1;33m(\u001b[0m\u001b[1;33m)\u001b[0m \u001b[1;32mas\u001b[0m \u001b[0msession\u001b[0m\u001b[1;33m:\u001b[0m\u001b[1;33m\u001b[0m\u001b[1;33m\u001b[0m\u001b[0m\n\u001b[1;32m---> 61\u001b[1;33m         \u001b[1;32mreturn\u001b[0m \u001b[0msession\u001b[0m\u001b[1;33m.\u001b[0m\u001b[0mrequest\u001b[0m\u001b[1;33m(\u001b[0m\u001b[0mmethod\u001b[0m\u001b[1;33m=\u001b[0m\u001b[0mmethod\u001b[0m\u001b[1;33m,\u001b[0m \u001b[0murl\u001b[0m\u001b[1;33m=\u001b[0m\u001b[0murl\u001b[0m\u001b[1;33m,\u001b[0m \u001b[1;33m**\u001b[0m\u001b[0mkwargs\u001b[0m\u001b[1;33m)\u001b[0m\u001b[1;33m\u001b[0m\u001b[1;33m\u001b[0m\u001b[0m\n\u001b[0m\u001b[0;32m     62\u001b[0m \u001b[1;33m\u001b[0m\u001b[0m\n\u001b[0;32m     63\u001b[0m \u001b[1;33m\u001b[0m\u001b[0m\n",
      "\u001b[1;32m~\\anaconda3\\lib\\site-packages\\requests\\sessions.py\u001b[0m in \u001b[0;36mrequest\u001b[1;34m(self, method, url, params, data, headers, cookies, files, auth, timeout, allow_redirects, proxies, hooks, stream, verify, cert, json)\u001b[0m\n\u001b[0;32m    540\u001b[0m         }\n\u001b[0;32m    541\u001b[0m         \u001b[0msend_kwargs\u001b[0m\u001b[1;33m.\u001b[0m\u001b[0mupdate\u001b[0m\u001b[1;33m(\u001b[0m\u001b[0msettings\u001b[0m\u001b[1;33m)\u001b[0m\u001b[1;33m\u001b[0m\u001b[1;33m\u001b[0m\u001b[0m\n\u001b[1;32m--> 542\u001b[1;33m         \u001b[0mresp\u001b[0m \u001b[1;33m=\u001b[0m \u001b[0mself\u001b[0m\u001b[1;33m.\u001b[0m\u001b[0msend\u001b[0m\u001b[1;33m(\u001b[0m\u001b[0mprep\u001b[0m\u001b[1;33m,\u001b[0m \u001b[1;33m**\u001b[0m\u001b[0msend_kwargs\u001b[0m\u001b[1;33m)\u001b[0m\u001b[1;33m\u001b[0m\u001b[1;33m\u001b[0m\u001b[0m\n\u001b[0m\u001b[0;32m    543\u001b[0m \u001b[1;33m\u001b[0m\u001b[0m\n\u001b[0;32m    544\u001b[0m         \u001b[1;32mreturn\u001b[0m \u001b[0mresp\u001b[0m\u001b[1;33m\u001b[0m\u001b[1;33m\u001b[0m\u001b[0m\n",
      "\u001b[1;32m~\\anaconda3\\lib\\site-packages\\requests\\sessions.py\u001b[0m in \u001b[0;36msend\u001b[1;34m(self, request, **kwargs)\u001b[0m\n\u001b[0;32m    653\u001b[0m \u001b[1;33m\u001b[0m\u001b[0m\n\u001b[0;32m    654\u001b[0m         \u001b[1;31m# Send the request\u001b[0m\u001b[1;33m\u001b[0m\u001b[1;33m\u001b[0m\u001b[1;33m\u001b[0m\u001b[0m\n\u001b[1;32m--> 655\u001b[1;33m         \u001b[0mr\u001b[0m \u001b[1;33m=\u001b[0m \u001b[0madapter\u001b[0m\u001b[1;33m.\u001b[0m\u001b[0msend\u001b[0m\u001b[1;33m(\u001b[0m\u001b[0mrequest\u001b[0m\u001b[1;33m,\u001b[0m \u001b[1;33m**\u001b[0m\u001b[0mkwargs\u001b[0m\u001b[1;33m)\u001b[0m\u001b[1;33m\u001b[0m\u001b[1;33m\u001b[0m\u001b[0m\n\u001b[0m\u001b[0;32m    656\u001b[0m \u001b[1;33m\u001b[0m\u001b[0m\n\u001b[0;32m    657\u001b[0m         \u001b[1;31m# Total elapsed time of the request (approximately)\u001b[0m\u001b[1;33m\u001b[0m\u001b[1;33m\u001b[0m\u001b[1;33m\u001b[0m\u001b[0m\n",
      "\u001b[1;32m~\\anaconda3\\lib\\site-packages\\requests\\adapters.py\u001b[0m in \u001b[0;36msend\u001b[1;34m(self, request, stream, timeout, verify, cert, proxies)\u001b[0m\n\u001b[0;32m    437\u001b[0m         \u001b[1;32mtry\u001b[0m\u001b[1;33m:\u001b[0m\u001b[1;33m\u001b[0m\u001b[1;33m\u001b[0m\u001b[0m\n\u001b[0;32m    438\u001b[0m             \u001b[1;32mif\u001b[0m \u001b[1;32mnot\u001b[0m \u001b[0mchunked\u001b[0m\u001b[1;33m:\u001b[0m\u001b[1;33m\u001b[0m\u001b[1;33m\u001b[0m\u001b[0m\n\u001b[1;32m--> 439\u001b[1;33m                 resp = conn.urlopen(\n\u001b[0m\u001b[0;32m    440\u001b[0m                     \u001b[0mmethod\u001b[0m\u001b[1;33m=\u001b[0m\u001b[0mrequest\u001b[0m\u001b[1;33m.\u001b[0m\u001b[0mmethod\u001b[0m\u001b[1;33m,\u001b[0m\u001b[1;33m\u001b[0m\u001b[1;33m\u001b[0m\u001b[0m\n\u001b[0;32m    441\u001b[0m                     \u001b[0murl\u001b[0m\u001b[1;33m=\u001b[0m\u001b[0murl\u001b[0m\u001b[1;33m,\u001b[0m\u001b[1;33m\u001b[0m\u001b[1;33m\u001b[0m\u001b[0m\n",
      "\u001b[1;32m~\\anaconda3\\lib\\site-packages\\urllib3\\connectionpool.py\u001b[0m in \u001b[0;36murlopen\u001b[1;34m(self, method, url, body, headers, retries, redirect, assert_same_host, timeout, pool_timeout, release_conn, chunked, body_pos, **response_kw)\u001b[0m\n\u001b[0;32m    697\u001b[0m \u001b[1;33m\u001b[0m\u001b[0m\n\u001b[0;32m    698\u001b[0m             \u001b[1;31m# Make the request on the httplib connection object.\u001b[0m\u001b[1;33m\u001b[0m\u001b[1;33m\u001b[0m\u001b[1;33m\u001b[0m\u001b[0m\n\u001b[1;32m--> 699\u001b[1;33m             httplib_response = self._make_request(\n\u001b[0m\u001b[0;32m    700\u001b[0m                 \u001b[0mconn\u001b[0m\u001b[1;33m,\u001b[0m\u001b[1;33m\u001b[0m\u001b[1;33m\u001b[0m\u001b[0m\n\u001b[0;32m    701\u001b[0m                 \u001b[0mmethod\u001b[0m\u001b[1;33m,\u001b[0m\u001b[1;33m\u001b[0m\u001b[1;33m\u001b[0m\u001b[0m\n",
      "\u001b[1;32m~\\anaconda3\\lib\\site-packages\\urllib3\\connectionpool.py\u001b[0m in \u001b[0;36m_make_request\u001b[1;34m(self, conn, method, url, timeout, chunked, **httplib_request_kw)\u001b[0m\n\u001b[0;32m    380\u001b[0m         \u001b[1;31m# Trigger any extra validation we need to do.\u001b[0m\u001b[1;33m\u001b[0m\u001b[1;33m\u001b[0m\u001b[1;33m\u001b[0m\u001b[0m\n\u001b[0;32m    381\u001b[0m         \u001b[1;32mtry\u001b[0m\u001b[1;33m:\u001b[0m\u001b[1;33m\u001b[0m\u001b[1;33m\u001b[0m\u001b[0m\n\u001b[1;32m--> 382\u001b[1;33m             \u001b[0mself\u001b[0m\u001b[1;33m.\u001b[0m\u001b[0m_validate_conn\u001b[0m\u001b[1;33m(\u001b[0m\u001b[0mconn\u001b[0m\u001b[1;33m)\u001b[0m\u001b[1;33m\u001b[0m\u001b[1;33m\u001b[0m\u001b[0m\n\u001b[0m\u001b[0;32m    383\u001b[0m         \u001b[1;32mexcept\u001b[0m \u001b[1;33m(\u001b[0m\u001b[0mSocketTimeout\u001b[0m\u001b[1;33m,\u001b[0m \u001b[0mBaseSSLError\u001b[0m\u001b[1;33m)\u001b[0m \u001b[1;32mas\u001b[0m \u001b[0me\u001b[0m\u001b[1;33m:\u001b[0m\u001b[1;33m\u001b[0m\u001b[1;33m\u001b[0m\u001b[0m\n\u001b[0;32m    384\u001b[0m             \u001b[1;31m# Py2 raises this as a BaseSSLError, Py3 raises it as socket timeout.\u001b[0m\u001b[1;33m\u001b[0m\u001b[1;33m\u001b[0m\u001b[1;33m\u001b[0m\u001b[0m\n",
      "\u001b[1;32m~\\anaconda3\\lib\\site-packages\\urllib3\\connectionpool.py\u001b[0m in \u001b[0;36m_validate_conn\u001b[1;34m(self, conn)\u001b[0m\n\u001b[0;32m   1008\u001b[0m         \u001b[1;31m# Force connect early to allow us to validate the connection.\u001b[0m\u001b[1;33m\u001b[0m\u001b[1;33m\u001b[0m\u001b[1;33m\u001b[0m\u001b[0m\n\u001b[0;32m   1009\u001b[0m         \u001b[1;32mif\u001b[0m \u001b[1;32mnot\u001b[0m \u001b[0mgetattr\u001b[0m\u001b[1;33m(\u001b[0m\u001b[0mconn\u001b[0m\u001b[1;33m,\u001b[0m \u001b[1;34m\"sock\"\u001b[0m\u001b[1;33m,\u001b[0m \u001b[1;32mNone\u001b[0m\u001b[1;33m)\u001b[0m\u001b[1;33m:\u001b[0m  \u001b[1;31m# AppEngine might not have  `.sock`\u001b[0m\u001b[1;33m\u001b[0m\u001b[1;33m\u001b[0m\u001b[0m\n\u001b[1;32m-> 1010\u001b[1;33m             \u001b[0mconn\u001b[0m\u001b[1;33m.\u001b[0m\u001b[0mconnect\u001b[0m\u001b[1;33m(\u001b[0m\u001b[1;33m)\u001b[0m\u001b[1;33m\u001b[0m\u001b[1;33m\u001b[0m\u001b[0m\n\u001b[0m\u001b[0;32m   1011\u001b[0m \u001b[1;33m\u001b[0m\u001b[0m\n\u001b[0;32m   1012\u001b[0m         \u001b[1;32mif\u001b[0m \u001b[1;32mnot\u001b[0m \u001b[0mconn\u001b[0m\u001b[1;33m.\u001b[0m\u001b[0mis_verified\u001b[0m\u001b[1;33m:\u001b[0m\u001b[1;33m\u001b[0m\u001b[1;33m\u001b[0m\u001b[0m\n",
      "\u001b[1;32m~\\anaconda3\\lib\\site-packages\\urllib3\\connection.py\u001b[0m in \u001b[0;36mconnect\u001b[1;34m(self)\u001b[0m\n\u001b[0;32m    351\u001b[0m     \u001b[1;32mdef\u001b[0m \u001b[0mconnect\u001b[0m\u001b[1;33m(\u001b[0m\u001b[0mself\u001b[0m\u001b[1;33m)\u001b[0m\u001b[1;33m:\u001b[0m\u001b[1;33m\u001b[0m\u001b[1;33m\u001b[0m\u001b[0m\n\u001b[0;32m    352\u001b[0m         \u001b[1;31m# Add certificate verification\u001b[0m\u001b[1;33m\u001b[0m\u001b[1;33m\u001b[0m\u001b[1;33m\u001b[0m\u001b[0m\n\u001b[1;32m--> 353\u001b[1;33m         \u001b[0mconn\u001b[0m \u001b[1;33m=\u001b[0m \u001b[0mself\u001b[0m\u001b[1;33m.\u001b[0m\u001b[0m_new_conn\u001b[0m\u001b[1;33m(\u001b[0m\u001b[1;33m)\u001b[0m\u001b[1;33m\u001b[0m\u001b[1;33m\u001b[0m\u001b[0m\n\u001b[0m\u001b[0;32m    354\u001b[0m         \u001b[0mhostname\u001b[0m \u001b[1;33m=\u001b[0m \u001b[0mself\u001b[0m\u001b[1;33m.\u001b[0m\u001b[0mhost\u001b[0m\u001b[1;33m\u001b[0m\u001b[1;33m\u001b[0m\u001b[0m\n\u001b[0;32m    355\u001b[0m         \u001b[0mtls_in_tls\u001b[0m \u001b[1;33m=\u001b[0m \u001b[1;32mFalse\u001b[0m\u001b[1;33m\u001b[0m\u001b[1;33m\u001b[0m\u001b[0m\n",
      "\u001b[1;32m~\\anaconda3\\lib\\site-packages\\urllib3\\connection.py\u001b[0m in \u001b[0;36m_new_conn\u001b[1;34m(self)\u001b[0m\n\u001b[0;32m    167\u001b[0m \u001b[1;33m\u001b[0m\u001b[0m\n\u001b[0;32m    168\u001b[0m         \u001b[1;32mtry\u001b[0m\u001b[1;33m:\u001b[0m\u001b[1;33m\u001b[0m\u001b[1;33m\u001b[0m\u001b[0m\n\u001b[1;32m--> 169\u001b[1;33m             conn = connection.create_connection(\n\u001b[0m\u001b[0;32m    170\u001b[0m                 \u001b[1;33m(\u001b[0m\u001b[0mself\u001b[0m\u001b[1;33m.\u001b[0m\u001b[0m_dns_host\u001b[0m\u001b[1;33m,\u001b[0m \u001b[0mself\u001b[0m\u001b[1;33m.\u001b[0m\u001b[0mport\u001b[0m\u001b[1;33m)\u001b[0m\u001b[1;33m,\u001b[0m \u001b[0mself\u001b[0m\u001b[1;33m.\u001b[0m\u001b[0mtimeout\u001b[0m\u001b[1;33m,\u001b[0m \u001b[1;33m**\u001b[0m\u001b[0mextra_kw\u001b[0m\u001b[1;33m\u001b[0m\u001b[1;33m\u001b[0m\u001b[0m\n\u001b[0;32m    171\u001b[0m             )\n",
      "\u001b[1;32m~\\anaconda3\\lib\\site-packages\\urllib3\\util\\connection.py\u001b[0m in \u001b[0;36mcreate_connection\u001b[1;34m(address, timeout, source_address, socket_options)\u001b[0m\n\u001b[0;32m     84\u001b[0m             \u001b[1;32mif\u001b[0m \u001b[0msource_address\u001b[0m\u001b[1;33m:\u001b[0m\u001b[1;33m\u001b[0m\u001b[1;33m\u001b[0m\u001b[0m\n\u001b[0;32m     85\u001b[0m                 \u001b[0msock\u001b[0m\u001b[1;33m.\u001b[0m\u001b[0mbind\u001b[0m\u001b[1;33m(\u001b[0m\u001b[0msource_address\u001b[0m\u001b[1;33m)\u001b[0m\u001b[1;33m\u001b[0m\u001b[1;33m\u001b[0m\u001b[0m\n\u001b[1;32m---> 86\u001b[1;33m             \u001b[0msock\u001b[0m\u001b[1;33m.\u001b[0m\u001b[0mconnect\u001b[0m\u001b[1;33m(\u001b[0m\u001b[0msa\u001b[0m\u001b[1;33m)\u001b[0m\u001b[1;33m\u001b[0m\u001b[1;33m\u001b[0m\u001b[0m\n\u001b[0m\u001b[0;32m     87\u001b[0m             \u001b[1;32mreturn\u001b[0m \u001b[0msock\u001b[0m\u001b[1;33m\u001b[0m\u001b[1;33m\u001b[0m\u001b[0m\n\u001b[0;32m     88\u001b[0m \u001b[1;33m\u001b[0m\u001b[0m\n",
      "\u001b[1;31mKeyboardInterrupt\u001b[0m: "
     ]
    }
   ],
   "source": [
    "def capm_calculator():\n",
    "    # Get beta \n",
    "    beta = ticker_object.info['beta']\n",
    "    if beta == None: \n",
    "        while True: \n",
    "            try:\n",
    "                beta = float(input(\"There is no beta available for this ticker\\nPlease input your own beta: \"))\n",
    "                beta_test = beta / 1\n",
    "                break\n",
    "            except ValueError: \n",
    "                continue \n",
    "    \n",
    "    # Get expected market return\n",
    "    while True:\n",
    "        r_m = input(\"Would you like to use your own expected market return?\\nIf no, the default rate will be 10%\\nType  in 'Y' or 'N': \")\n",
    "        if r_m.lower() == 'y' or r_m.lower() == 'n':\n",
    "            break\n",
    "        else:\n",
    "            continue\n",
    "        \n",
    "    if r_m.lower() == 'y': \n",
    "        while True:\n",
    "            try:\n",
    "                r_m = input(\"Please input your preferred expected market return in %: \")\n",
    "                r_m = float(r_m)/100\n",
    "                break\n",
    "            except ValueError:\n",
    "                print('Please enter a valid number')\n",
    "    elif r_m.lower() == 'n':\n",
    "        r_m = 0.10\n",
    "    \n",
    "    # Get risk free rate\n",
    "    bond = yf.Ticker('^TNX')\n",
    "    r_f = bond.info['regularMarketPrice'] / 100\n",
    "    \n",
    "    # Calculate cost of equity\n",
    "    r_e = r_f + beta * (r_m - r_f)\n",
    "    \n",
    "    print(f'\\nbeta is:  {beta}')\n",
    "    print(f'r_f based on US 10 Treasury Yield is: {r_f}')\n",
    "    print(f'r_m is: {r_m}')\n",
    "        \n",
    "    return r_e\n",
    "\n",
    "# Getting cost of equity\n",
    "while True:\n",
    "        r_e = input(\"Would you like to use your own cost of equity?\\nIf no, the default rate will be calculated based on CAPM\\nType  in 'Y' or 'N': \")\n",
    "        if r_e.lower() == 'y' or r_e.lower() == 'n':\n",
    "            break\n",
    "        else:\n",
    "            continue\n",
    "            \n",
    "if r_e.lower() == 'y': \n",
    "    while True:\n",
    "        try:\n",
    "            r_e = input(\"Please input your custom cost of equity in %: \")\n",
    "            r_e = float(r_e)/100\n",
    "            break\n",
    "        except ValueError:\n",
    "            print('Please enter a valid number')\n",
    "elif r_e.lower() == 'n':\n",
    "    print(\"\\nCalculating cost of equity using CAPM...\\n\")\n",
    "    r_e = capm_calculator()\n",
    "    \n",
    "print(f'Therefore, r_e is: {r_e * 100}%')\n"
   ]
  },
  {
   "cell_type": "markdown",
   "id": "77952ca2",
   "metadata": {},
   "source": [
    "## 3.2 Find cost of debt"
   ]
  },
  {
   "cell_type": "code",
   "execution_count": null,
   "id": "b2ec9879",
   "metadata": {},
   "outputs": [],
   "source": [
    "def cost_of_debt_calculator():\n",
    "    # Accessing the balance sheet\n",
    "    balancesheet_df = ticker_object.balancesheet\n",
    "    \n",
    "    # Find the historial total debt\n",
    "    hist_total_debt = list(balancesheet_df.loc['Short Long Term Debt'] + balancesheet_df.loc['Long Term Debt'])\n",
    "    print(f'hist_total_debt is: {hist_total_debt}')\n",
    "    \n",
    "    \n",
    "    # Find the historical interest expense\n",
    "    hist_interest_exp = list(financials_df.loc['Interest Expense'])\n",
    "    print(f'hist_interest_exp is {hist_interest_exp}')\n",
    "    \n",
    "    # Find the average cost of debt\n",
    "    hist_r_d = [abs(hist_interest_exp[i] / hist_total_debt[i]) for i in range(NUM_OF_YEARS)]\n",
    "    avg_hist_r_d = sum(hist_r_d) / len(hist_r_d)\n",
    "    print(f'hist_r_d is {hist_r_d}')\n",
    "    \n",
    "    return avg_hist_r_d\n",
    "\n",
    "# Getting cost of debt\n",
    "while True:\n",
    "        r_d = input(\"Would you like to use your own cost of debt?\\nIf no, the default rate will be calculated based on historical income statement and balance sheet values\\nType  in 'Y' or 'N': \")\n",
    "        if r_d.lower() == 'y' or r_d.lower() == 'n':\n",
    "            break\n",
    "        else:\n",
    "            continue\n",
    "            \n",
    "if r_d.lower() == 'y': \n",
    "    while True:\n",
    "        try:\n",
    "            r_d = input(\"Please input your custom cost of debt in %: \")\n",
    "            r_d = float(r_d)/100\n",
    "            break\n",
    "        except ValueError:\n",
    "            print('Please enter a valid number')\n",
    "elif r_d.lower() == 'n':\n",
    "    r_d = cost_of_debt_calculator()\n",
    "\n",
    "print('\\n')\n",
    "print(f'r_d is: {r_d * 100}%')"
   ]
  },
  {
   "cell_type": "markdown",
   "id": "60540d3a",
   "metadata": {},
   "source": [
    "## 3.3 Find the effective tax rate"
   ]
  },
  {
   "cell_type": "code",
   "execution_count": null,
   "id": "19076b19",
   "metadata": {},
   "outputs": [],
   "source": [
    "def effective_tax_calculator():\n",
    "    hist_incomeb4_tax = list(financials_df.loc['Income Before Tax'])\n",
    "    hist_tax_expense = list(financials_df.loc['Income Tax Expense'])\n",
    "\n",
    "    hist_eff_tax_rate = [abs(hist_tax_expense[i]) / abs(hist_incomeb4_tax[i]) for i in range(NUM_OF_YEARS)]\n",
    "    avg_eff_tax_rate = sum(hist_eff_tax_rate) / len(hist_eff_tax_rate)\n",
    "    \n",
    "    return avg_eff_tax_rate\n",
    "\n",
    "# Getting effective tax rate\n",
    "while True:\n",
    "        tax_rate = input(\"Would you like to use your own effective tax rate?\\nIf no, the default rate will be calculated based on historical income statement values\\nType  in 'Y' or 'N': \")\n",
    "        if tax_rate.lower() == 'y' or tax_rate.lower() == 'n':\n",
    "            break\n",
    "        else:\n",
    "            continue\n",
    "            \n",
    "if tax_rate.lower() == 'y': \n",
    "    while True:\n",
    "        try:\n",
    "            tax_rate = input(\"Please input your custom tax rate in %: \")\n",
    "            tax_rate = float(tax_rate)/100\n",
    "            break\n",
    "        except ValueError:\n",
    "            print('Please enter a valid number')\n",
    "elif tax_rate.lower() == 'n':\n",
    "    tax_rate = effective_tax_calculator()\n",
    "    \n",
    "print(f'\\nEffective tax rate is: {tax_rate * 100}%')"
   ]
  },
  {
   "cell_type": "markdown",
   "id": "55fc6c1d",
   "metadata": {},
   "source": [
    "## 3.4 Find WACC"
   ]
  },
  {
   "cell_type": "code",
   "execution_count": null,
   "id": "b40c1b6b",
   "metadata": {},
   "outputs": [],
   "source": [
    "def wacc_calculator(r_e, r_d, tax_rate):\n",
    "    \n",
    "    # Getting the weight of debt and equity\n",
    "    equity_value = ticker_object.info['marketCap']\n",
    "    debt_value = ticker_object.info['totalDebt']\n",
    "    total_value = equity_value + debt_value\n",
    "    \n",
    "    weight_of_equity = equity_value / total_value\n",
    "    weight_of_debt = debt_value / total_value\n",
    "    \n",
    "    \n",
    "    WACC = weight_of_debt * r_d * (1 - tax_rate) + weight_of_equity * r_e\n",
    "    \n",
    "    return WACC\n",
    "\n",
    "cost_of_capital = wacc_calculator(r_e, r_d, tax_rate)\n",
    "print(f'The cost of capital is: {cost_of_capital * 100}%')"
   ]
  },
  {
   "cell_type": "markdown",
   "id": "107e918a",
   "metadata": {},
   "source": [
    "# Step 4. Find the present value of all future FCF"
   ]
  },
  {
   "cell_type": "markdown",
   "id": "23d33ffc",
   "metadata": {},
   "source": [
    "## 4.1 Find the discount factor "
   ]
  },
  {
   "cell_type": "code",
   "execution_count": null,
   "id": "12e1e5fb",
   "metadata": {},
   "outputs": [],
   "source": [
    "def discount_factors(cost_of_capital):\n",
    "    \"\"\"\n",
    "    Returns a list of discount factors\n",
    "    \"\"\"\n",
    "    \n",
    "    discount_factors = []\n",
    "    for i in range(NUM_OF_YEARS):\n",
    "        d_factor = 1 / (1 + cost_of_capital)**(i+1)\n",
    "        discount_factors.append(d_factor)\n",
    "    \n",
    "    return discount_factors\n",
    "\n",
    "discount_factors = discount_factors(cost_of_capital)\n",
    "\n",
    "print(f'The discount factors are: {discount_factors}')\n",
    "        "
   ]
  },
  {
   "cell_type": "markdown",
   "id": "d1944e8e",
   "metadata": {},
   "source": [
    "## 4.2 Find the PV of forecasted FCF"
   ]
  },
  {
   "cell_type": "code",
   "execution_count": null,
   "id": "47287f8b",
   "metadata": {},
   "outputs": [],
   "source": [
    "def pv_forecasted_FCF(future_FCFs, discount_factors): \n",
    "    pv_forecasted_FCF = []\n",
    "    for i in range(NUM_OF_YEARS):\n",
    "        pv_forecasted_FCF.append(future_FCFs[i] * discount_factors[i])\n",
    "    \n",
    "    return pv_forecasted_FCF\n",
    "\n",
    "pv_forecasted_FCF = pv_forecasted_FCF(future_FCFs, discount_factors)\n",
    "\n",
    "print(future_FCFs)"
   ]
  },
  {
   "cell_type": "markdown",
   "id": "b18e087f",
   "metadata": {},
   "source": [
    "## 4.3 Find the terminal value and its PV"
   ]
  },
  {
   "cell_type": "code",
   "execution_count": null,
   "id": "2ae082dd",
   "metadata": {},
   "outputs": [],
   "source": [
    "def pv_terminal_value(future_FCFs, cost_of_capital, discount_factors):\n",
    "    \n",
    "    # First, we need to determine the growth rate\n",
    "    # Default growth rate will be 2.5%\n",
    "    while True:\n",
    "        growth_rate = input(\"Would you like to use your own perpetual growth rate?\\nIf no, the default rate will be 2.5%\\nType  in 'Y' or 'N': \")\n",
    "        if growth_rate.lower() == 'y' or growth_rate.lower() == 'n':\n",
    "            break\n",
    "        else:\n",
    "            continue\n",
    "            \n",
    "    if growth_rate.lower() == 'y': \n",
    "        while True:\n",
    "            try:\n",
    "                growth_rate = input(\"Please input your custom tax rate in %: \")\n",
    "                growth_rate = float(growth_rate)/100\n",
    "                break\n",
    "            except ValueError:\n",
    "                print('Please enter a valid number')\n",
    "    elif growth_rate.lower() == 'n':\n",
    "        growth_rate = 0.025\n",
    "        \n",
    "    # Calculate terminal value \n",
    "    terminal_value = (future_FCFs[-1] * (1 + growth_rate)) / (cost_of_capital - growth_rate)\n",
    "    print(terminal_value)\n",
    "    \n",
    "    # Calculate the PV of terminal value\n",
    "    pv_terminal_value = terminal_value * discount_factors[-1]\n",
    "    \n",
    "    return pv_terminal_value\n",
    "\n",
    "pv_terminal_value = pv_terminal_value(future_FCFs, cost_of_capital, discount_factors) \n",
    "print(pv_terminal_value)"
   ]
  },
  {
   "cell_type": "markdown",
   "id": "19cd5d55",
   "metadata": {},
   "source": [
    "## 4.4 Find the sum of the PV of all future FCF"
   ]
  },
  {
   "cell_type": "code",
   "execution_count": null,
   "id": "5444913e",
   "metadata": {},
   "outputs": [],
   "source": [
    "pv_forecasted_FCF.append(pv_terminal_value)\n",
    "pv_all_future_FCF = pv_forecasted_FCF\n",
    "print(pv_all_future_FCF)"
   ]
  },
  {
   "cell_type": "markdown",
   "id": "9ea17bf8",
   "metadata": {},
   "source": [
    "# Step 5 (FINAL STEP). Find the intrinsic value of the stock"
   ]
  },
  {
   "cell_type": "code",
   "execution_count": null,
   "id": "ec806af9",
   "metadata": {},
   "outputs": [],
   "source": [
    "def intrinsic_value(pv_all_future_FCF):\n",
    "    # Get the number of shares outstanding\n",
    "    num_shares_outstanding = ticker_object.info['sharesOutstanding']\n",
    "    \n",
    "    intrinsic_value = sum(pv_all_future_FCF) / num_shares_outstanding\n",
    "    \n",
    "    return intrinsic_value\n",
    "\n",
    "intrinsic_value = intrinsic_value(pv_all_future_FCF)\n",
    "\n",
    "print(f'The intrinsic value of {ticker} based on the discounted free cash flow analysis is: ${intrinsic_value:.2f}')"
   ]
  },
  {
   "cell_type": "code",
   "execution_count": null,
   "id": "ab8b91b6",
   "metadata": {},
   "outputs": [],
   "source": []
  }
 ],
 "metadata": {
  "kernelspec": {
   "display_name": "Python 3",
   "language": "python",
   "name": "python3"
  },
  "language_info": {
   "codemirror_mode": {
    "name": "ipython",
    "version": 3
   },
   "file_extension": ".py",
   "mimetype": "text/x-python",
   "name": "python",
   "nbconvert_exporter": "python",
   "pygments_lexer": "ipython3",
   "version": "3.8.8"
  }
 },
 "nbformat": 4,
 "nbformat_minor": 5
}
